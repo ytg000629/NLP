{
  "nbformat": 4,
  "nbformat_minor": 0,
  "metadata": {
    "colab": {
      "provenance": [],
      "include_colab_link": true
    },
    "kernelspec": {
      "name": "python3",
      "display_name": "Python 3"
    },
    "language_info": {
      "name": "python"
    },
    "accelerator": "GPU",
    "gpuClass": "standard"
  },
  "cells": [
    {
      "cell_type": "markdown",
      "metadata": {
        "id": "view-in-github",
        "colab_type": "text"
      },
      "source": [
        "<a href=\"https://colab.research.google.com/github/ytg000629/NLP/blob/main/week5/LSTM%20%EB%84%A4%EC%9D%B4%EB%B2%84_%EC%98%81%ED%99%94%EB%A6%AC%EB%B7%B0_%EA%B0%90%EC%84%B1_%EB%B6%84%EB%A5%98.ipynb\" target=\"_parent\"><img src=\"https://colab.research.google.com/assets/colab-badge.svg\" alt=\"Open In Colab\"/></a>"
      ]
    },
    {
      "cell_type": "markdown",
      "source": [
        "# 네이버 영화 리뷰 감성 분류"
      ],
      "metadata": {
        "id": "TpQsZL357ECX"
      }
    },
    {
      "cell_type": "markdown",
      "source": [
        "## 데이터 전처리"
      ],
      "metadata": {
        "id": "F0FWvnyQ8vsa"
      }
    },
    {
      "cell_type": "code",
      "execution_count": 2,
      "metadata": {
        "colab": {
          "base_uri": "https://localhost:8080/"
        },
        "id": "WoWH2Rs66zXW",
        "outputId": "80a9e622-e618-4551-c4c3-00bdc27e031e"
      },
      "outputs": [
        {
          "output_type": "stream",
          "name": "stdout",
          "text": [
            "Looking in indexes: https://pypi.org/simple, https://us-python.pkg.dev/colab-wheels/public/simple/\n",
            "Requirement already satisfied: konlpy in /usr/local/lib/python3.9/dist-packages (0.6.0)\n",
            "Requirement already satisfied: lxml>=4.1.0 in /usr/local/lib/python3.9/dist-packages (from konlpy) (4.9.2)\n",
            "Requirement already satisfied: JPype1>=0.7.0 in /usr/local/lib/python3.9/dist-packages (from konlpy) (1.4.1)\n",
            "Requirement already satisfied: numpy>=1.6 in /usr/local/lib/python3.9/dist-packages (from konlpy) (1.22.4)\n",
            "Requirement already satisfied: packaging in /usr/local/lib/python3.9/dist-packages (from JPype1>=0.7.0->konlpy) (23.0)\n"
          ]
        }
      ],
      "source": [
        "pip install konlpy"
      ]
    },
    {
      "cell_type": "code",
      "source": [
        "pip install tensorflow"
      ],
      "metadata": {
        "colab": {
          "base_uri": "https://localhost:8080/"
        },
        "id": "dPLVtUXoFoPe",
        "outputId": "660ee633-4c88-4c15-8999-95128dbeef91"
      },
      "execution_count": 3,
      "outputs": [
        {
          "output_type": "stream",
          "name": "stdout",
          "text": [
            "Looking in indexes: https://pypi.org/simple, https://us-python.pkg.dev/colab-wheels/public/simple/\n",
            "Requirement already satisfied: tensorflow in /usr/local/lib/python3.9/dist-packages (2.12.0)\n",
            "Requirement already satisfied: libclang>=13.0.0 in /usr/local/lib/python3.9/dist-packages (from tensorflow) (16.0.0)\n",
            "Requirement already satisfied: grpcio<2.0,>=1.24.3 in /usr/local/lib/python3.9/dist-packages (from tensorflow) (1.53.0)\n",
            "Requirement already satisfied: termcolor>=1.1.0 in /usr/local/lib/python3.9/dist-packages (from tensorflow) (2.2.0)\n",
            "Requirement already satisfied: typing-extensions>=3.6.6 in /usr/local/lib/python3.9/dist-packages (from tensorflow) (4.5.0)\n",
            "Requirement already satisfied: tensorflow-io-gcs-filesystem>=0.23.1 in /usr/local/lib/python3.9/dist-packages (from tensorflow) (0.32.0)\n",
            "Requirement already satisfied: flatbuffers>=2.0 in /usr/local/lib/python3.9/dist-packages (from tensorflow) (23.3.3)\n",
            "Requirement already satisfied: packaging in /usr/local/lib/python3.9/dist-packages (from tensorflow) (23.0)\n",
            "Requirement already satisfied: wrapt<1.15,>=1.11.0 in /usr/local/lib/python3.9/dist-packages (from tensorflow) (1.14.1)\n",
            "Requirement already satisfied: google-pasta>=0.1.1 in /usr/local/lib/python3.9/dist-packages (from tensorflow) (0.2.0)\n",
            "Requirement already satisfied: h5py>=2.9.0 in /usr/local/lib/python3.9/dist-packages (from tensorflow) (3.8.0)\n",
            "Requirement already satisfied: jax>=0.3.15 in /usr/local/lib/python3.9/dist-packages (from tensorflow) (0.4.7)\n",
            "Requirement already satisfied: keras<2.13,>=2.12.0 in /usr/local/lib/python3.9/dist-packages (from tensorflow) (2.12.0)\n",
            "Requirement already satisfied: six>=1.12.0 in /usr/local/lib/python3.9/dist-packages (from tensorflow) (1.16.0)\n",
            "Requirement already satisfied: gast<=0.4.0,>=0.2.1 in /usr/local/lib/python3.9/dist-packages (from tensorflow) (0.4.0)\n",
            "Requirement already satisfied: setuptools in /usr/local/lib/python3.9/dist-packages (from tensorflow) (67.6.1)\n",
            "Requirement already satisfied: numpy<1.24,>=1.22 in /usr/local/lib/python3.9/dist-packages (from tensorflow) (1.22.4)\n",
            "Requirement already satisfied: tensorboard<2.13,>=2.12 in /usr/local/lib/python3.9/dist-packages (from tensorflow) (2.12.0)\n",
            "Requirement already satisfied: protobuf!=4.21.0,!=4.21.1,!=4.21.2,!=4.21.3,!=4.21.4,!=4.21.5,<5.0.0dev,>=3.20.3 in /usr/local/lib/python3.9/dist-packages (from tensorflow) (3.20.3)\n",
            "Requirement already satisfied: opt-einsum>=2.3.2 in /usr/local/lib/python3.9/dist-packages (from tensorflow) (3.3.0)\n",
            "Requirement already satisfied: astunparse>=1.6.0 in /usr/local/lib/python3.9/dist-packages (from tensorflow) (1.6.3)\n",
            "Requirement already satisfied: tensorflow-estimator<2.13,>=2.12.0 in /usr/local/lib/python3.9/dist-packages (from tensorflow) (2.12.0)\n",
            "Requirement already satisfied: absl-py>=1.0.0 in /usr/local/lib/python3.9/dist-packages (from tensorflow) (1.4.0)\n",
            "Requirement already satisfied: wheel<1.0,>=0.23.0 in /usr/local/lib/python3.9/dist-packages (from astunparse>=1.6.0->tensorflow) (0.40.0)\n",
            "Requirement already satisfied: scipy>=1.7 in /usr/local/lib/python3.9/dist-packages (from jax>=0.3.15->tensorflow) (1.10.1)\n",
            "Requirement already satisfied: ml-dtypes>=0.0.3 in /usr/local/lib/python3.9/dist-packages (from jax>=0.3.15->tensorflow) (0.0.4)\n",
            "Requirement already satisfied: werkzeug>=1.0.1 in /usr/local/lib/python3.9/dist-packages (from tensorboard<2.13,>=2.12->tensorflow) (2.2.3)\n",
            "Requirement already satisfied: google-auth<3,>=1.6.3 in /usr/local/lib/python3.9/dist-packages (from tensorboard<2.13,>=2.12->tensorflow) (2.17.0)\n",
            "Requirement already satisfied: google-auth-oauthlib<0.5,>=0.4.1 in /usr/local/lib/python3.9/dist-packages (from tensorboard<2.13,>=2.12->tensorflow) (0.4.6)\n",
            "Requirement already satisfied: tensorboard-data-server<0.8.0,>=0.7.0 in /usr/local/lib/python3.9/dist-packages (from tensorboard<2.13,>=2.12->tensorflow) (0.7.0)\n",
            "Requirement already satisfied: tensorboard-plugin-wit>=1.6.0 in /usr/local/lib/python3.9/dist-packages (from tensorboard<2.13,>=2.12->tensorflow) (1.8.1)\n",
            "Requirement already satisfied: requests<3,>=2.21.0 in /usr/local/lib/python3.9/dist-packages (from tensorboard<2.13,>=2.12->tensorflow) (2.27.1)\n",
            "Requirement already satisfied: markdown>=2.6.8 in /usr/local/lib/python3.9/dist-packages (from tensorboard<2.13,>=2.12->tensorflow) (3.4.3)\n",
            "Requirement already satisfied: cachetools<6.0,>=2.0.0 in /usr/local/lib/python3.9/dist-packages (from google-auth<3,>=1.6.3->tensorboard<2.13,>=2.12->tensorflow) (5.3.0)\n",
            "Requirement already satisfied: pyasn1-modules>=0.2.1 in /usr/local/lib/python3.9/dist-packages (from google-auth<3,>=1.6.3->tensorboard<2.13,>=2.12->tensorflow) (0.2.8)\n",
            "Requirement already satisfied: rsa<5,>=3.1.4 in /usr/local/lib/python3.9/dist-packages (from google-auth<3,>=1.6.3->tensorboard<2.13,>=2.12->tensorflow) (4.9)\n",
            "Requirement already satisfied: requests-oauthlib>=0.7.0 in /usr/local/lib/python3.9/dist-packages (from google-auth-oauthlib<0.5,>=0.4.1->tensorboard<2.13,>=2.12->tensorflow) (1.3.1)\n",
            "Requirement already satisfied: importlib-metadata>=4.4 in /usr/local/lib/python3.9/dist-packages (from markdown>=2.6.8->tensorboard<2.13,>=2.12->tensorflow) (6.1.0)\n",
            "Requirement already satisfied: idna<4,>=2.5 in /usr/local/lib/python3.9/dist-packages (from requests<3,>=2.21.0->tensorboard<2.13,>=2.12->tensorflow) (3.4)\n",
            "Requirement already satisfied: certifi>=2017.4.17 in /usr/local/lib/python3.9/dist-packages (from requests<3,>=2.21.0->tensorboard<2.13,>=2.12->tensorflow) (2022.12.7)\n",
            "Requirement already satisfied: charset-normalizer~=2.0.0 in /usr/local/lib/python3.9/dist-packages (from requests<3,>=2.21.0->tensorboard<2.13,>=2.12->tensorflow) (2.0.12)\n",
            "Requirement already satisfied: urllib3<1.27,>=1.21.1 in /usr/local/lib/python3.9/dist-packages (from requests<3,>=2.21.0->tensorboard<2.13,>=2.12->tensorflow) (1.26.15)\n",
            "Requirement already satisfied: MarkupSafe>=2.1.1 in /usr/local/lib/python3.9/dist-packages (from werkzeug>=1.0.1->tensorboard<2.13,>=2.12->tensorflow) (2.1.2)\n",
            "Requirement already satisfied: zipp>=0.5 in /usr/local/lib/python3.9/dist-packages (from importlib-metadata>=4.4->markdown>=2.6.8->tensorboard<2.13,>=2.12->tensorflow) (3.15.0)\n",
            "Requirement already satisfied: pyasn1<0.5.0,>=0.4.6 in /usr/local/lib/python3.9/dist-packages (from pyasn1-modules>=0.2.1->google-auth<3,>=1.6.3->tensorboard<2.13,>=2.12->tensorflow) (0.4.8)\n",
            "Requirement already satisfied: oauthlib>=3.0.0 in /usr/local/lib/python3.9/dist-packages (from requests-oauthlib>=0.7.0->google-auth-oauthlib<0.5,>=0.4.1->tensorboard<2.13,>=2.12->tensorflow) (3.2.2)\n"
          ]
        }
      ]
    },
    {
      "cell_type": "code",
      "source": [
        "import pandas as pd\n",
        "import numpy as np\n",
        "%matplotlib inline\n",
        "import matplotlib.pyplot as plt\n",
        "import re\n",
        "import urllib.request\n",
        "from konlpy.tag import Okt\n",
        "from tensorflow.keras.preprocessing.text import Tokenizer\n",
        "from tensorflow.keras.preprocessing.sequence import pad_sequences"
      ],
      "metadata": {
        "id": "bXboXq_67NaP"
      },
      "execution_count": 4,
      "outputs": []
    },
    {
      "cell_type": "code",
      "source": [
        "#데이터 로드\n",
        "urllib.request.urlretrieve(\"https://raw.githubusercontent.com/e9t/nsmc/master/ratings_train.txt\", filename=\"ratings_train.txt\")\n",
        "urllib.request.urlretrieve(\"https://raw.githubusercontent.com/e9t/nsmc/master/ratings_test.txt\", filename=\"ratings_test.txt\")\n",
        "\n",
        "train_data = pd.read_table('ratings_train.txt')\n",
        "test_data = pd.read_table('ratings_test.txt')\n",
        "\n",
        "\n"
      ],
      "metadata": {
        "id": "PonGXctL7R3u"
      },
      "execution_count": 5,
      "outputs": []
    },
    {
      "cell_type": "code",
      "source": [
        "train_data = train_data[:2000]\n",
        "test_data = test_data[:500]\n",
        "print('훈련용 리뷰 개수 :',len(train_data)) # 훈련용 리뷰 개수 출력\n",
        "print('테스트용 리뷰 개수 :',len(test_data)) # 테스트용 리뷰 개수 출력\n",
        "#시간 오래 걸려서 일부만 사용"
      ],
      "metadata": {
        "colab": {
          "base_uri": "https://localhost:8080/"
        },
        "id": "xd0KinPuEYGH",
        "outputId": "cf1d6a51-1b64-468c-872f-59acb0e89ace"
      },
      "execution_count": 8,
      "outputs": [
        {
          "output_type": "stream",
          "name": "stdout",
          "text": [
            "훈련용 리뷰 개수 : 2000\n",
            "테스트용 리뷰 개수 : 500\n"
          ]
        }
      ]
    },
    {
      "cell_type": "code",
      "source": [
        "train_data.head() #0:부정 , 1: 긍정"
      ],
      "metadata": {
        "colab": {
          "base_uri": "https://localhost:8080/",
          "height": 206
        },
        "id": "lBAzhhr87my-",
        "outputId": "87a62ac2-a516-4f20-f331-ae96ae2b6435"
      },
      "execution_count": 9,
      "outputs": [
        {
          "output_type": "execute_result",
          "data": {
            "text/plain": [
              "         id                                           document  label\n",
              "0   9976970                                아 더빙.. 진짜 짜증나네요 목소리      0\n",
              "1   3819312                  흠...포스터보고 초딩영화줄....오버연기조차 가볍지 않구나      1\n",
              "2  10265843                                  너무재밓었다그래서보는것을추천한다      0\n",
              "3   9045019                      교도소 이야기구먼 ..솔직히 재미는 없다..평점 조정      0\n",
              "4   6483659  사이몬페그의 익살스런 연기가 돋보였던 영화!스파이더맨에서 늙어보이기만 했던 커스틴 ...      1"
            ],
            "text/html": [
              "\n",
              "  <div id=\"df-45f4b845-92d9-4c5d-bd13-3df68a8a56b1\">\n",
              "    <div class=\"colab-df-container\">\n",
              "      <div>\n",
              "<style scoped>\n",
              "    .dataframe tbody tr th:only-of-type {\n",
              "        vertical-align: middle;\n",
              "    }\n",
              "\n",
              "    .dataframe tbody tr th {\n",
              "        vertical-align: top;\n",
              "    }\n",
              "\n",
              "    .dataframe thead th {\n",
              "        text-align: right;\n",
              "    }\n",
              "</style>\n",
              "<table border=\"1\" class=\"dataframe\">\n",
              "  <thead>\n",
              "    <tr style=\"text-align: right;\">\n",
              "      <th></th>\n",
              "      <th>id</th>\n",
              "      <th>document</th>\n",
              "      <th>label</th>\n",
              "    </tr>\n",
              "  </thead>\n",
              "  <tbody>\n",
              "    <tr>\n",
              "      <th>0</th>\n",
              "      <td>9976970</td>\n",
              "      <td>아 더빙.. 진짜 짜증나네요 목소리</td>\n",
              "      <td>0</td>\n",
              "    </tr>\n",
              "    <tr>\n",
              "      <th>1</th>\n",
              "      <td>3819312</td>\n",
              "      <td>흠...포스터보고 초딩영화줄....오버연기조차 가볍지 않구나</td>\n",
              "      <td>1</td>\n",
              "    </tr>\n",
              "    <tr>\n",
              "      <th>2</th>\n",
              "      <td>10265843</td>\n",
              "      <td>너무재밓었다그래서보는것을추천한다</td>\n",
              "      <td>0</td>\n",
              "    </tr>\n",
              "    <tr>\n",
              "      <th>3</th>\n",
              "      <td>9045019</td>\n",
              "      <td>교도소 이야기구먼 ..솔직히 재미는 없다..평점 조정</td>\n",
              "      <td>0</td>\n",
              "    </tr>\n",
              "    <tr>\n",
              "      <th>4</th>\n",
              "      <td>6483659</td>\n",
              "      <td>사이몬페그의 익살스런 연기가 돋보였던 영화!스파이더맨에서 늙어보이기만 했던 커스틴 ...</td>\n",
              "      <td>1</td>\n",
              "    </tr>\n",
              "  </tbody>\n",
              "</table>\n",
              "</div>\n",
              "      <button class=\"colab-df-convert\" onclick=\"convertToInteractive('df-45f4b845-92d9-4c5d-bd13-3df68a8a56b1')\"\n",
              "              title=\"Convert this dataframe to an interactive table.\"\n",
              "              style=\"display:none;\">\n",
              "        \n",
              "  <svg xmlns=\"http://www.w3.org/2000/svg\" height=\"24px\"viewBox=\"0 0 24 24\"\n",
              "       width=\"24px\">\n",
              "    <path d=\"M0 0h24v24H0V0z\" fill=\"none\"/>\n",
              "    <path d=\"M18.56 5.44l.94 2.06.94-2.06 2.06-.94-2.06-.94-.94-2.06-.94 2.06-2.06.94zm-11 1L8.5 8.5l.94-2.06 2.06-.94-2.06-.94L8.5 2.5l-.94 2.06-2.06.94zm10 10l.94 2.06.94-2.06 2.06-.94-2.06-.94-.94-2.06-.94 2.06-2.06.94z\"/><path d=\"M17.41 7.96l-1.37-1.37c-.4-.4-.92-.59-1.43-.59-.52 0-1.04.2-1.43.59L10.3 9.45l-7.72 7.72c-.78.78-.78 2.05 0 2.83L4 21.41c.39.39.9.59 1.41.59.51 0 1.02-.2 1.41-.59l7.78-7.78 2.81-2.81c.8-.78.8-2.07 0-2.86zM5.41 20L4 18.59l7.72-7.72 1.47 1.35L5.41 20z\"/>\n",
              "  </svg>\n",
              "      </button>\n",
              "      \n",
              "  <style>\n",
              "    .colab-df-container {\n",
              "      display:flex;\n",
              "      flex-wrap:wrap;\n",
              "      gap: 12px;\n",
              "    }\n",
              "\n",
              "    .colab-df-convert {\n",
              "      background-color: #E8F0FE;\n",
              "      border: none;\n",
              "      border-radius: 50%;\n",
              "      cursor: pointer;\n",
              "      display: none;\n",
              "      fill: #1967D2;\n",
              "      height: 32px;\n",
              "      padding: 0 0 0 0;\n",
              "      width: 32px;\n",
              "    }\n",
              "\n",
              "    .colab-df-convert:hover {\n",
              "      background-color: #E2EBFA;\n",
              "      box-shadow: 0px 1px 2px rgba(60, 64, 67, 0.3), 0px 1px 3px 1px rgba(60, 64, 67, 0.15);\n",
              "      fill: #174EA6;\n",
              "    }\n",
              "\n",
              "    [theme=dark] .colab-df-convert {\n",
              "      background-color: #3B4455;\n",
              "      fill: #D2E3FC;\n",
              "    }\n",
              "\n",
              "    [theme=dark] .colab-df-convert:hover {\n",
              "      background-color: #434B5C;\n",
              "      box-shadow: 0px 1px 3px 1px rgba(0, 0, 0, 0.15);\n",
              "      filter: drop-shadow(0px 1px 2px rgba(0, 0, 0, 0.3));\n",
              "      fill: #FFFFFF;\n",
              "    }\n",
              "  </style>\n",
              "\n",
              "      <script>\n",
              "        const buttonEl =\n",
              "          document.querySelector('#df-45f4b845-92d9-4c5d-bd13-3df68a8a56b1 button.colab-df-convert');\n",
              "        buttonEl.style.display =\n",
              "          google.colab.kernel.accessAllowed ? 'block' : 'none';\n",
              "\n",
              "        async function convertToInteractive(key) {\n",
              "          const element = document.querySelector('#df-45f4b845-92d9-4c5d-bd13-3df68a8a56b1');\n",
              "          const dataTable =\n",
              "            await google.colab.kernel.invokeFunction('convertToInteractive',\n",
              "                                                     [key], {});\n",
              "          if (!dataTable) return;\n",
              "\n",
              "          const docLinkHtml = 'Like what you see? Visit the ' +\n",
              "            '<a target=\"_blank\" href=https://colab.research.google.com/notebooks/data_table.ipynb>data table notebook</a>'\n",
              "            + ' to learn more about interactive tables.';\n",
              "          element.innerHTML = '';\n",
              "          dataTable['output_type'] = 'display_data';\n",
              "          await google.colab.output.renderOutput(dataTable, element);\n",
              "          const docLink = document.createElement('div');\n",
              "          docLink.innerHTML = docLinkHtml;\n",
              "          element.appendChild(docLink);\n",
              "        }\n",
              "      </script>\n",
              "    </div>\n",
              "  </div>\n",
              "  "
            ]
          },
          "metadata": {},
          "execution_count": 9
        }
      ]
    },
    {
      "cell_type": "markdown",
      "source": [
        "### 중복제거, null 값 제거"
      ],
      "metadata": {
        "id": "x3_wnfyp9tmL"
      }
    },
    {
      "cell_type": "code",
      "source": [
        "#중복 데이터 전처리\n",
        "train_data['document'].nunique() #중복데이터 존재"
      ],
      "metadata": {
        "colab": {
          "base_uri": "https://localhost:8080/"
        },
        "id": "bdOup5Aj70hi",
        "outputId": "d2bda787-3f97-4d96-9d25-3bae766da670"
      },
      "execution_count": 10,
      "outputs": [
        {
          "output_type": "execute_result",
          "data": {
            "text/plain": [
              "1993"
            ]
          },
          "metadata": {},
          "execution_count": 10
        }
      ]
    },
    {
      "cell_type": "code",
      "source": [
        "#중복제거\n",
        "train_data.drop_duplicates(subset=['document'], inplace=True) #중복 제거\n",
        "print('총 샘플의 수 :',len(train_data))"
      ],
      "metadata": {
        "colab": {
          "base_uri": "https://localhost:8080/"
        },
        "id": "6UjjGT038Bnr",
        "outputId": "9553d94c-906b-486d-ff2f-b50b09a3d9ea"
      },
      "execution_count": 11,
      "outputs": [
        {
          "output_type": "stream",
          "name": "stdout",
          "text": [
            "총 샘플의 수 : 1993\n"
          ]
        }
      ]
    },
    {
      "cell_type": "code",
      "source": [
        "#train 데이터 레이블 값의 분포 확인\n",
        "print(train_data.groupby('label').size().reset_index(name = 'count'))"
      ],
      "metadata": {
        "colab": {
          "base_uri": "https://localhost:8080/"
        },
        "id": "fEjRN9Il8joc",
        "outputId": "86fc377d-3be7-4f52-f2c8-23d399030feb"
      },
      "execution_count": 12,
      "outputs": [
        {
          "output_type": "stream",
          "name": "stdout",
          "text": [
            "   label  count\n",
            "0      0   1010\n",
            "1      1    983\n"
          ]
        }
      ]
    },
    {
      "cell_type": "code",
      "source": [
        "#null 값 확인\n",
        "print(train_data.isnull().values.any()) #true가 나오면 null값 존재\n",
        "print(train_data.isnull().sum()) # document 열에서 1개 존재"
      ],
      "metadata": {
        "colab": {
          "base_uri": "https://localhost:8080/"
        },
        "id": "trseG7gF8qSR",
        "outputId": "8d8e293d-2c30-4b45-9dff-3de397791003"
      },
      "execution_count": 13,
      "outputs": [
        {
          "output_type": "stream",
          "name": "stdout",
          "text": [
            "False\n",
            "id          0\n",
            "document    0\n",
            "label       0\n",
            "dtype: int64\n"
          ]
        }
      ]
    },
    {
      "cell_type": "code",
      "source": [
        "train_data.loc[train_data.document.isnull()] # null값 샘플 인덱스 확인"
      ],
      "metadata": {
        "colab": {
          "base_uri": "https://localhost:8080/",
          "height": 49
        },
        "id": "QATSNKRI87NA",
        "outputId": "e79cd018-bd47-4970-9e8d-a2e628efb5d5"
      },
      "execution_count": 14,
      "outputs": [
        {
          "output_type": "execute_result",
          "data": {
            "text/plain": [
              "Empty DataFrame\n",
              "Columns: [id, document, label]\n",
              "Index: []"
            ],
            "text/html": [
              "\n",
              "  <div id=\"df-2e08d991-ab9e-4fb5-bdc5-a70d149a2718\">\n",
              "    <div class=\"colab-df-container\">\n",
              "      <div>\n",
              "<style scoped>\n",
              "    .dataframe tbody tr th:only-of-type {\n",
              "        vertical-align: middle;\n",
              "    }\n",
              "\n",
              "    .dataframe tbody tr th {\n",
              "        vertical-align: top;\n",
              "    }\n",
              "\n",
              "    .dataframe thead th {\n",
              "        text-align: right;\n",
              "    }\n",
              "</style>\n",
              "<table border=\"1\" class=\"dataframe\">\n",
              "  <thead>\n",
              "    <tr style=\"text-align: right;\">\n",
              "      <th></th>\n",
              "      <th>id</th>\n",
              "      <th>document</th>\n",
              "      <th>label</th>\n",
              "    </tr>\n",
              "  </thead>\n",
              "  <tbody>\n",
              "  </tbody>\n",
              "</table>\n",
              "</div>\n",
              "      <button class=\"colab-df-convert\" onclick=\"convertToInteractive('df-2e08d991-ab9e-4fb5-bdc5-a70d149a2718')\"\n",
              "              title=\"Convert this dataframe to an interactive table.\"\n",
              "              style=\"display:none;\">\n",
              "        \n",
              "  <svg xmlns=\"http://www.w3.org/2000/svg\" height=\"24px\"viewBox=\"0 0 24 24\"\n",
              "       width=\"24px\">\n",
              "    <path d=\"M0 0h24v24H0V0z\" fill=\"none\"/>\n",
              "    <path d=\"M18.56 5.44l.94 2.06.94-2.06 2.06-.94-2.06-.94-.94-2.06-.94 2.06-2.06.94zm-11 1L8.5 8.5l.94-2.06 2.06-.94-2.06-.94L8.5 2.5l-.94 2.06-2.06.94zm10 10l.94 2.06.94-2.06 2.06-.94-2.06-.94-.94-2.06-.94 2.06-2.06.94z\"/><path d=\"M17.41 7.96l-1.37-1.37c-.4-.4-.92-.59-1.43-.59-.52 0-1.04.2-1.43.59L10.3 9.45l-7.72 7.72c-.78.78-.78 2.05 0 2.83L4 21.41c.39.39.9.59 1.41.59.51 0 1.02-.2 1.41-.59l7.78-7.78 2.81-2.81c.8-.78.8-2.07 0-2.86zM5.41 20L4 18.59l7.72-7.72 1.47 1.35L5.41 20z\"/>\n",
              "  </svg>\n",
              "      </button>\n",
              "      \n",
              "  <style>\n",
              "    .colab-df-container {\n",
              "      display:flex;\n",
              "      flex-wrap:wrap;\n",
              "      gap: 12px;\n",
              "    }\n",
              "\n",
              "    .colab-df-convert {\n",
              "      background-color: #E8F0FE;\n",
              "      border: none;\n",
              "      border-radius: 50%;\n",
              "      cursor: pointer;\n",
              "      display: none;\n",
              "      fill: #1967D2;\n",
              "      height: 32px;\n",
              "      padding: 0 0 0 0;\n",
              "      width: 32px;\n",
              "    }\n",
              "\n",
              "    .colab-df-convert:hover {\n",
              "      background-color: #E2EBFA;\n",
              "      box-shadow: 0px 1px 2px rgba(60, 64, 67, 0.3), 0px 1px 3px 1px rgba(60, 64, 67, 0.15);\n",
              "      fill: #174EA6;\n",
              "    }\n",
              "\n",
              "    [theme=dark] .colab-df-convert {\n",
              "      background-color: #3B4455;\n",
              "      fill: #D2E3FC;\n",
              "    }\n",
              "\n",
              "    [theme=dark] .colab-df-convert:hover {\n",
              "      background-color: #434B5C;\n",
              "      box-shadow: 0px 1px 3px 1px rgba(0, 0, 0, 0.15);\n",
              "      filter: drop-shadow(0px 1px 2px rgba(0, 0, 0, 0.3));\n",
              "      fill: #FFFFFF;\n",
              "    }\n",
              "  </style>\n",
              "\n",
              "      <script>\n",
              "        const buttonEl =\n",
              "          document.querySelector('#df-2e08d991-ab9e-4fb5-bdc5-a70d149a2718 button.colab-df-convert');\n",
              "        buttonEl.style.display =\n",
              "          google.colab.kernel.accessAllowed ? 'block' : 'none';\n",
              "\n",
              "        async function convertToInteractive(key) {\n",
              "          const element = document.querySelector('#df-2e08d991-ab9e-4fb5-bdc5-a70d149a2718');\n",
              "          const dataTable =\n",
              "            await google.colab.kernel.invokeFunction('convertToInteractive',\n",
              "                                                     [key], {});\n",
              "          if (!dataTable) return;\n",
              "\n",
              "          const docLinkHtml = 'Like what you see? Visit the ' +\n",
              "            '<a target=\"_blank\" href=https://colab.research.google.com/notebooks/data_table.ipynb>data table notebook</a>'\n",
              "            + ' to learn more about interactive tables.';\n",
              "          element.innerHTML = '';\n",
              "          dataTable['output_type'] = 'display_data';\n",
              "          await google.colab.output.renderOutput(dataTable, element);\n",
              "          const docLink = document.createElement('div');\n",
              "          docLink.innerHTML = docLinkHtml;\n",
              "          element.appendChild(docLink);\n",
              "        }\n",
              "      </script>\n",
              "    </div>\n",
              "  </div>\n",
              "  "
            ]
          },
          "metadata": {},
          "execution_count": 14
        }
      ]
    },
    {
      "cell_type": "code",
      "source": [
        "# Null 값을 가진 샘플을 제거\n",
        "train_data = train_data.dropna(how = 'any') # Null 값이 존재하는 행 제거\n",
        "print(train_data.isnull().values.any()) # Null 값이 존재하는지 확인"
      ],
      "metadata": {
        "colab": {
          "base_uri": "https://localhost:8080/"
        },
        "id": "uCK2mUi49iiP",
        "outputId": "b1889275-18d8-4d6f-ddbf-9544b4f429d4"
      },
      "execution_count": 15,
      "outputs": [
        {
          "output_type": "stream",
          "name": "stdout",
          "text": [
            "False\n"
          ]
        }
      ]
    },
    {
      "cell_type": "markdown",
      "source": [
        "### document 칼럼 정제"
      ],
      "metadata": {
        "id": "x6R-wbcN_v-o"
      }
    },
    {
      "cell_type": "code",
      "source": [
        "train_data['document'] = train_data['document'].str.replace(\"[^ㄱ-ㅎㅏ-ㅣ가-힣 ]\",\"\")# 한글과 공백을 제외하고 모두 제거\n",
        "# [^xy] : not 을 표현하며  x 및 y 를 제외한 문자를 의미한다.\n",
        "train_data"
      ],
      "metadata": {
        "colab": {
          "base_uri": "https://localhost:8080/",
          "height": 460
        },
        "id": "kaMNix3e943_",
        "outputId": "06efa10b-3062-4164-def7-0c4c999c19a0"
      },
      "execution_count": 16,
      "outputs": [
        {
          "output_type": "stream",
          "name": "stderr",
          "text": [
            "<ipython-input-16-152023bd78e6>:1: FutureWarning: The default value of regex will change from True to False in a future version.\n",
            "  train_data['document'] = train_data['document'].str.replace(\"[^ㄱ-ㅎㅏ-ㅣ가-힣 ]\",\"\")# 한글과 공백을 제외하고 모두 제거\n"
          ]
        },
        {
          "output_type": "execute_result",
          "data": {
            "text/plain": [
              "            id                                           document  label\n",
              "0      9976970                                  아 더빙 진짜 짜증나네요 목소리      0\n",
              "1      3819312                         흠포스터보고 초딩영화줄오버연기조차 가볍지 않구나      1\n",
              "2     10265843                                  너무재밓었다그래서보는것을추천한다      0\n",
              "3      9045019                          교도소 이야기구먼 솔직히 재미는 없다평점 조정      0\n",
              "4      6483659  사이몬페그의 익살스런 연기가 돋보였던 영화스파이더맨에서 늙어보이기만 했던 커스틴 던...      1\n",
              "...        ...                                                ...    ...\n",
              "1995   9840375                                   이런걸 우리나라에서 왜 개봉함      0\n",
              "1996   4366451                         출연한 배우들이 지금 보면 부끄러워할 만한 영화      0\n",
              "1997   3227818          뮤직비됴 짜집기가따로없는 영화과학년생 실습작품이라해도 이보다 쓰레기일수없다      0\n",
              "1998   8126237     만표로 무슨 대국민 투표라고 사기를 치고 어휴 박시환  가는거 생각만 해도 끔찍하다      0\n",
              "1999   3217607          하숙집 아줌마와 그 아줌마딸의 연인인 하숙생이 사궈서 아기를 갖는불쾌한영화      0\n",
              "\n",
              "[1993 rows x 3 columns]"
            ],
            "text/html": [
              "\n",
              "  <div id=\"df-ef2c838b-8800-47cd-8ad8-71bc6610b533\">\n",
              "    <div class=\"colab-df-container\">\n",
              "      <div>\n",
              "<style scoped>\n",
              "    .dataframe tbody tr th:only-of-type {\n",
              "        vertical-align: middle;\n",
              "    }\n",
              "\n",
              "    .dataframe tbody tr th {\n",
              "        vertical-align: top;\n",
              "    }\n",
              "\n",
              "    .dataframe thead th {\n",
              "        text-align: right;\n",
              "    }\n",
              "</style>\n",
              "<table border=\"1\" class=\"dataframe\">\n",
              "  <thead>\n",
              "    <tr style=\"text-align: right;\">\n",
              "      <th></th>\n",
              "      <th>id</th>\n",
              "      <th>document</th>\n",
              "      <th>label</th>\n",
              "    </tr>\n",
              "  </thead>\n",
              "  <tbody>\n",
              "    <tr>\n",
              "      <th>0</th>\n",
              "      <td>9976970</td>\n",
              "      <td>아 더빙 진짜 짜증나네요 목소리</td>\n",
              "      <td>0</td>\n",
              "    </tr>\n",
              "    <tr>\n",
              "      <th>1</th>\n",
              "      <td>3819312</td>\n",
              "      <td>흠포스터보고 초딩영화줄오버연기조차 가볍지 않구나</td>\n",
              "      <td>1</td>\n",
              "    </tr>\n",
              "    <tr>\n",
              "      <th>2</th>\n",
              "      <td>10265843</td>\n",
              "      <td>너무재밓었다그래서보는것을추천한다</td>\n",
              "      <td>0</td>\n",
              "    </tr>\n",
              "    <tr>\n",
              "      <th>3</th>\n",
              "      <td>9045019</td>\n",
              "      <td>교도소 이야기구먼 솔직히 재미는 없다평점 조정</td>\n",
              "      <td>0</td>\n",
              "    </tr>\n",
              "    <tr>\n",
              "      <th>4</th>\n",
              "      <td>6483659</td>\n",
              "      <td>사이몬페그의 익살스런 연기가 돋보였던 영화스파이더맨에서 늙어보이기만 했던 커스틴 던...</td>\n",
              "      <td>1</td>\n",
              "    </tr>\n",
              "    <tr>\n",
              "      <th>...</th>\n",
              "      <td>...</td>\n",
              "      <td>...</td>\n",
              "      <td>...</td>\n",
              "    </tr>\n",
              "    <tr>\n",
              "      <th>1995</th>\n",
              "      <td>9840375</td>\n",
              "      <td>이런걸 우리나라에서 왜 개봉함</td>\n",
              "      <td>0</td>\n",
              "    </tr>\n",
              "    <tr>\n",
              "      <th>1996</th>\n",
              "      <td>4366451</td>\n",
              "      <td>출연한 배우들이 지금 보면 부끄러워할 만한 영화</td>\n",
              "      <td>0</td>\n",
              "    </tr>\n",
              "    <tr>\n",
              "      <th>1997</th>\n",
              "      <td>3227818</td>\n",
              "      <td>뮤직비됴 짜집기가따로없는 영화과학년생 실습작품이라해도 이보다 쓰레기일수없다</td>\n",
              "      <td>0</td>\n",
              "    </tr>\n",
              "    <tr>\n",
              "      <th>1998</th>\n",
              "      <td>8126237</td>\n",
              "      <td>만표로 무슨 대국민 투표라고 사기를 치고 어휴 박시환  가는거 생각만 해도 끔찍하다</td>\n",
              "      <td>0</td>\n",
              "    </tr>\n",
              "    <tr>\n",
              "      <th>1999</th>\n",
              "      <td>3217607</td>\n",
              "      <td>하숙집 아줌마와 그 아줌마딸의 연인인 하숙생이 사궈서 아기를 갖는불쾌한영화</td>\n",
              "      <td>0</td>\n",
              "    </tr>\n",
              "  </tbody>\n",
              "</table>\n",
              "<p>1993 rows × 3 columns</p>\n",
              "</div>\n",
              "      <button class=\"colab-df-convert\" onclick=\"convertToInteractive('df-ef2c838b-8800-47cd-8ad8-71bc6610b533')\"\n",
              "              title=\"Convert this dataframe to an interactive table.\"\n",
              "              style=\"display:none;\">\n",
              "        \n",
              "  <svg xmlns=\"http://www.w3.org/2000/svg\" height=\"24px\"viewBox=\"0 0 24 24\"\n",
              "       width=\"24px\">\n",
              "    <path d=\"M0 0h24v24H0V0z\" fill=\"none\"/>\n",
              "    <path d=\"M18.56 5.44l.94 2.06.94-2.06 2.06-.94-2.06-.94-.94-2.06-.94 2.06-2.06.94zm-11 1L8.5 8.5l.94-2.06 2.06-.94-2.06-.94L8.5 2.5l-.94 2.06-2.06.94zm10 10l.94 2.06.94-2.06 2.06-.94-2.06-.94-.94-2.06-.94 2.06-2.06.94z\"/><path d=\"M17.41 7.96l-1.37-1.37c-.4-.4-.92-.59-1.43-.59-.52 0-1.04.2-1.43.59L10.3 9.45l-7.72 7.72c-.78.78-.78 2.05 0 2.83L4 21.41c.39.39.9.59 1.41.59.51 0 1.02-.2 1.41-.59l7.78-7.78 2.81-2.81c.8-.78.8-2.07 0-2.86zM5.41 20L4 18.59l7.72-7.72 1.47 1.35L5.41 20z\"/>\n",
              "  </svg>\n",
              "      </button>\n",
              "      \n",
              "  <style>\n",
              "    .colab-df-container {\n",
              "      display:flex;\n",
              "      flex-wrap:wrap;\n",
              "      gap: 12px;\n",
              "    }\n",
              "\n",
              "    .colab-df-convert {\n",
              "      background-color: #E8F0FE;\n",
              "      border: none;\n",
              "      border-radius: 50%;\n",
              "      cursor: pointer;\n",
              "      display: none;\n",
              "      fill: #1967D2;\n",
              "      height: 32px;\n",
              "      padding: 0 0 0 0;\n",
              "      width: 32px;\n",
              "    }\n",
              "\n",
              "    .colab-df-convert:hover {\n",
              "      background-color: #E2EBFA;\n",
              "      box-shadow: 0px 1px 2px rgba(60, 64, 67, 0.3), 0px 1px 3px 1px rgba(60, 64, 67, 0.15);\n",
              "      fill: #174EA6;\n",
              "    }\n",
              "\n",
              "    [theme=dark] .colab-df-convert {\n",
              "      background-color: #3B4455;\n",
              "      fill: #D2E3FC;\n",
              "    }\n",
              "\n",
              "    [theme=dark] .colab-df-convert:hover {\n",
              "      background-color: #434B5C;\n",
              "      box-shadow: 0px 1px 3px 1px rgba(0, 0, 0, 0.15);\n",
              "      filter: drop-shadow(0px 1px 2px rgba(0, 0, 0, 0.3));\n",
              "      fill: #FFFFFF;\n",
              "    }\n",
              "  </style>\n",
              "\n",
              "      <script>\n",
              "        const buttonEl =\n",
              "          document.querySelector('#df-ef2c838b-8800-47cd-8ad8-71bc6610b533 button.colab-df-convert');\n",
              "        buttonEl.style.display =\n",
              "          google.colab.kernel.accessAllowed ? 'block' : 'none';\n",
              "\n",
              "        async function convertToInteractive(key) {\n",
              "          const element = document.querySelector('#df-ef2c838b-8800-47cd-8ad8-71bc6610b533');\n",
              "          const dataTable =\n",
              "            await google.colab.kernel.invokeFunction('convertToInteractive',\n",
              "                                                     [key], {});\n",
              "          if (!dataTable) return;\n",
              "\n",
              "          const docLinkHtml = 'Like what you see? Visit the ' +\n",
              "            '<a target=\"_blank\" href=https://colab.research.google.com/notebooks/data_table.ipynb>data table notebook</a>'\n",
              "            + ' to learn more about interactive tables.';\n",
              "          element.innerHTML = '';\n",
              "          dataTable['output_type'] = 'display_data';\n",
              "          await google.colab.output.renderOutput(dataTable, element);\n",
              "          const docLink = document.createElement('div');\n",
              "          docLink.innerHTML = docLinkHtml;\n",
              "          element.appendChild(docLink);\n",
              "        }\n",
              "      </script>\n",
              "    </div>\n",
              "  </div>\n",
              "  "
            ]
          },
          "metadata": {},
          "execution_count": 16
        }
      ]
    },
    {
      "cell_type": "code",
      "source": [
        "print(train_data.isnull().sum())"
      ],
      "metadata": {
        "colab": {
          "base_uri": "https://localhost:8080/"
        },
        "id": "yHCQ7ohW-tz-",
        "outputId": "c90d3fc7-707b-4a78-83b9-e73b34d603de"
      },
      "execution_count": 17,
      "outputs": [
        {
          "output_type": "stream",
          "name": "stdout",
          "text": [
            "id          0\n",
            "document    0\n",
            "label       0\n",
            "dtype: int64\n"
          ]
        }
      ]
    },
    {
      "cell_type": "code",
      "source": [
        "# 정규표현식으로 한글만 골랐기 때문에 기존에 한글이 없는 리뷰였다면 이제 더 이상 아무런 값도 없는 빈(empty) 값이 됨\n",
        "# data에 공백(white space)만 있거나 빈 값을 가진 행이 있다면 Null 값으로 변경\n",
        "train_data['document'] = train_data['document'].str.replace('^ +', \"\") # white space 데이터를 empty value로 변경\n",
        "# ^x : 문자열의 시작을 표현하며 x 문자로 시작됨을 의미한다.\n",
        "# x+ : 반복을 표현하며 x 문자가 한번 이상 반복됨을 의미한다.\n",
        "train_data['document'].replace('', np.nan, inplace=True)\n",
        "print(train_data.isnull().sum())"
      ],
      "metadata": {
        "colab": {
          "base_uri": "https://localhost:8080/"
        },
        "id": "6RyuFfre-wTx",
        "outputId": "84792916-b133-42c5-bb95-b330ff95b33e"
      },
      "execution_count": 18,
      "outputs": [
        {
          "output_type": "stream",
          "name": "stdout",
          "text": [
            "id           0\n",
            "document    11\n",
            "label        0\n",
            "dtype: int64\n"
          ]
        },
        {
          "output_type": "stream",
          "name": "stderr",
          "text": [
            "<ipython-input-18-8ecb70aa5053>:3: FutureWarning: The default value of regex will change from True to False in a future version.\n",
            "  train_data['document'] = train_data['document'].str.replace('^ +', \"\") # white space 데이터를 empty value로 변경\n"
          ]
        }
      ]
    },
    {
      "cell_type": "code",
      "source": [
        "#null값 제거\n",
        "\n",
        "train_data = train_data.dropna(how = 'any') # Null 샘플 제거\n",
        "print(len(train_data))\n"
      ],
      "metadata": {
        "colab": {
          "base_uri": "https://localhost:8080/"
        },
        "id": "FXcrhCcC_mj0",
        "outputId": "717bd2eb-025a-4175-bb89-d7f0f394397f"
      },
      "execution_count": 19,
      "outputs": [
        {
          "output_type": "stream",
          "name": "stdout",
          "text": [
            "1982\n"
          ]
        }
      ]
    },
    {
      "cell_type": "code",
      "source": [
        "#test data에서도 똑같이\n",
        "test_data.drop_duplicates(subset = ['document'], inplace=True) # document 열에서 중복인 내용이 있다면 중복 제거\n",
        "test_data['document'] = test_data['document'].str.replace(\"[^ㄱ-ㅎㅏ-ㅣ가-힣 ]\",\"\") # 정규 표현식 수행\n",
        "test_data['document'] = test_data['document'].str.replace('^ +', \"\") # 공백은 empty 값으로 변경\n",
        "test_data['document'].replace('', np.nan, inplace=True) # 공백은 Null 값으로 변경\n",
        "test_data = test_data.dropna(how='any') # Null 값 제거\n",
        "print('전처리 후 테스트용 샘플의 개수 :',len(test_data))"
      ],
      "metadata": {
        "colab": {
          "base_uri": "https://localhost:8080/"
        },
        "id": "9GUkN0E3_8Vz",
        "outputId": "93e46aaf-e76d-4959-f647-a49c5a43e1eb"
      },
      "execution_count": 20,
      "outputs": [
        {
          "output_type": "stream",
          "name": "stdout",
          "text": [
            "전처리 후 테스트용 샘플의 개수 : 496\n"
          ]
        },
        {
          "output_type": "stream",
          "name": "stderr",
          "text": [
            "<ipython-input-20-97249adecf5b>:3: FutureWarning: The default value of regex will change from True to False in a future version.\n",
            "  test_data['document'] = test_data['document'].str.replace(\"[^ㄱ-ㅎㅏ-ㅣ가-힣 ]\",\"\") # 정규 표현식 수행\n",
            "<ipython-input-20-97249adecf5b>:4: FutureWarning: The default value of regex will change from True to False in a future version.\n",
            "  test_data['document'] = test_data['document'].str.replace('^ +', \"\") # 공백은 empty 값으로 변경\n"
          ]
        }
      ]
    },
    {
      "cell_type": "markdown",
      "source": [
        "### 토큰화"
      ],
      "metadata": {
        "id": "rR2dtGZYAFUf"
      }
    },
    {
      "cell_type": "code",
      "source": [
        "#불용어\n",
        "stopwords = ['의','가','이','은','들','는','좀','잘','걍','과','도','를','으로','자','에','와','한','하다']"
      ],
      "metadata": {
        "id": "NtibIv_sAIjr"
      },
      "execution_count": 21,
      "outputs": []
    },
    {
      "cell_type": "code",
      "source": [
        "#형태소분석\n",
        "okt = Okt()\n",
        "\n",
        "X_train = []  \n",
        "for sentence in train_data['document']:\n",
        "    temp_X = okt.morphs(sentence, stem=True) # 토큰화 #stem = True 일정 수준의 정규화 수행 ex)이런 -> 이렇다\n",
        "    temp_X = [word for word in temp_X if not word in stopwords] # 불용어 제거\n",
        "    X_train.append(temp_X)\n",
        "\n",
        "X_test = []\n",
        "for sentence in test_data['document']:\n",
        "    temp_X = okt.morphs(sentence, stem=True) # 토큰화\n",
        "    temp_X = [word for word in temp_X if not word in stopwords] # 불용어 제거\n",
        "    X_test.append(temp_X)"
      ],
      "metadata": {
        "id": "J8e0a0sTAOik"
      },
      "execution_count": 22,
      "outputs": []
    },
    {
      "cell_type": "code",
      "source": [
        "#정수 인코딩\n",
        "# 훈련 데이터에 대해서 단어 집합(vocaburary) 만들기\n",
        "tokenizer = Tokenizer()\n",
        "tokenizer.fit_on_texts(X_train)\n",
        "# 각 단어에 고유한 정수가 부여\n",
        "print(tokenizer.word_index)"
      ],
      "metadata": {
        "colab": {
          "base_uri": "https://localhost:8080/"
        },
        "id": "Sbf-fBPgBAzZ",
        "outputId": "92e8b4fa-00fc-425d-a412-df284a9d823c"
      },
      "execution_count": 23,
      "outputs": [
        {
          "output_type": "stream",
          "name": "stdout",
          "text": [
            "{'영화': 1, '보다': 2, '을': 3, '없다': 4, '이다': 5, '있다': 6, '만': 7, '좋다': 8, '다': 9, '정말': 10, '재밌다': 11, '적': 12, '되다': 13, '같다': 14, '너무': 15, '진짜': 16, '점': 17, '나오다': 18, '아니다': 19, '연기': 20, '인': 21, '로': 22, '에서': 23, '않다': 24, '평점': 25, '안': 26, '최고': 27, '것': 28, '나': 29, '사람': 30, '내': 31, '만들다': 32, '말': 33, '드라마': 34, '보고': 35, '못': 36, '생각': 37, '그': 38, '감동': 39, '왜': 40, 'ㅋㅋ': 41, '배우': 42, '고': 43, '재미없다': 44, '하고': 45, '아깝다': 46, '재미': 47, '스토리': 48, '그냥': 49, '내용': 50, '감독': 51, '거': 52, '아': 53, '게': 54, '재미있다': 55, '때': 56, '시간': 57, '더': 58, '가다': 59, '요': 60, '그렇다': 61, '쓰레기': 62, '중': 63, '모르다': 64, '이렇다': 65, '사랑': 66, '까지': 67, '들다': 68, '주다': 69, '알다': 70, '볼': 71, '지루하다': 72, '지': 73, '싶다': 74, 'ㅋㅋㅋ': 75, '완전': 76, '주인공': 77, '작품': 78, '뭐': 79, '자다': 80, '하나': 81, '액션': 82, '정도': 83, '기': 84, 'ㅠㅠ': 85, '넘다': 86, '돈': 87, '네': 88, '이건': 89, '수': 90, '또': 91, '차다': 92, '듯': 93, '느낌': 94, '년': 95, 'ㅋ': 96, '라': 97, '최악': 98, '난': 99, '하': 100, '이렇게': 101, '일': 102, '개': 103, '역시': 104, '서': 105, 'ㅡㅡ': 106, '다시': 107, '처음': 108, '남자': 109, '부터': 110, '저': 111, '인데': 112, '먹다': 113, '남다': 114, '마지막': 115, '임': 116, '버리다': 117, '오다': 118, '많다': 119, '에게': 120, '그리고': 121, '장면': 122, '안되다': 123, '걸': 124, '명작': 125, '지금': 126, '여': 127, '소재': 128, '느끼다': 129, '이야기': 130, '살다': 131, '라고': 132, '인생': 133, '받다': 134, '랑': 135, '줄': 136, '별로': 137, '연출': 138, '아쉽다': 139, '두': 140, '많이': 141, '괜찮다': 142, '솔직하다': 143, '꼭': 144, '한번': 145, '전': 146, '이런': 147, '냐': 148, '대': 149, '나다': 150, '높다': 151, '함': 152, '죽다': 153, '면': 154, '해주다': 155, '무슨': 156, '맞다': 157, '어떻다': 158, '영': 159, '인간': 160, '멋지다': 161, '음악': 162, '엔': 163, '속': 164, '좋아하다': 165, '뿐': 166, '기억': 167, '본': 168, '별': 169, '님': 170, '화': 171, '끝': 172, '무섭다': 173, '공감': 174, '이나': 175, '전개': 176, '유치하다': 177, '쓰다': 178, '보기': 179, '이영화': 180, '없이': 181, '귀엽다': 182, '이고': 183, '모든': 184, '라는': 185, '짜증나다': 186, '웃기다': 187, '알': 188, '자체': 189, '실망': 190, '건지다': 191, '성': 192, '되어다': 193, '현실': 194, '급': 195, '내내': 196, '연': 197, '짱': 198, '가장': 199, '건': 200, '매력': 201, '인가': 202, '우리': 203, '기분': 204, 'ㅜㅜ': 205, '슬프다': 206, '애': 207, '허다': 208, '시리즈': 209, 'ㅎㅎ': 210, '지다': 211, '여자': 212, '제목': 213, '움': 214, '낮다': 215, '끄다': 216, '웃다': 217, '보여주다': 218, '대단하다': 219, '끝나다': 220, '분': 221, '설정': 222, '전혀': 223, '이란': 224, '이유': 225, '아름답다': 226, '다른': 227, '뭔가': 228, '때문': 229, '특히': 230, '보이다': 231, '이쁘다': 232, '야': 233, '돼다': 234, '말다': 235, '제일': 236, '가슴': 237, '일본': 238, '근데': 239, '결말': 240, '기대': 241, '진심': 242, '믿다': 243, '어리다': 244, '요즘': 245, '예쁘다': 246, '마음': 247, '제': 248, '작': 249, '잇다': 250, '애니': 251, '욕': 252, '이해': 253, '절대': 254, '나가다': 255, '이라는': 256, '조금': 257, '이야': 258, '빠지다': 259, '당시': 260, '알바': 261, '밖에': 262, 'ㅠ': 263, '표현': 264, '완벽하다': 265, '시키다': 266, '영상': 267, '뭔': 268, '번': 269, '포스터': 270, '꽤': 271, '극장': 272, '처럼': 273, '나름': 274, '이라': 275, '크다': 276, '웃음': 277, '한국영': 278, '아주': 279, '자신': 280, '한국': 281, '개봉': 282, '에는': 283, '미치다': 284, '울다': 285, '부분': 286, '결국': 287, '찍다': 288, 'ㅎ': 289, '반전': 290, '점수': 291, '너': 292, '원작': 293, '몇': 294, '인지': 295, '가족': 296, '이라고': 297, '캐스팅': 298, '늘다': 299, '력': 300, '두다': 301, '모습': 302, '대해': 303, '짜다': 304, '에도': 305, '건가': 306, '뻔하다': 307, '눈': 308, '이상하다': 309, '몰입': 310, '그만': 311, '하지만': 312, '오랜': 313, '막장': 314, '코미디': 315, '니': 316, '니까': 317, '아직': 318, '시': 319, '전쟁': 320, '제발': 321, '굿': 322, '아이': 323, '삶': 324, '키': 325, '눈물': 326, '세': 327, '긴장감': 328, '극': 329, '코': 330, '위': 331, '대한': 332, '잔잔하다': 333, '캐릭터': 334, '신선하다': 335, '이랑': 336, '깊다': 337, '연기력': 338, '그래도': 339, '어이없다': 340, '인상': 341, '지만': 342, '후': 343, '문제': 344, '장난': 345, '다운': 346, '모두': 347, '감': 348, '참고': 349, '추천': 350, '살리다': 351, '해도': 352, '노잼': 353, '놈': 354, '이리': 355, '아직도': 356, '정신': 357, '이네': 358, '수준': 359, '딱': 360, '계속': 361, '감정': 362, '위해': 363, '시청률': 364, '한테': 365, '뭘': 366, '대박': 367, '따뜻하다': 368, '어느': 369, '힘들다': 370, '나이': 371, '여운': 372, '그리다': 373, '쯤': 374, '용': 375, '보지': 376, '구성': 377, '남': 378, '해보다': 379, '친구': 380, '이상': 381, '중국': 382, '이지만': 383, '이후': 384, '재다': 385, '라면': 386, '얼굴': 387, '엄청나다': 388, '공포': 389, '점도': 390, '의미': 391, '필요없다': 392, '떼다': 393, '데': 394, '식': 395, '년대': 396, '감성': 397, '갈수록': 398, '구': 399, '수작': 400, '기대하다': 401, '초반': 402, '잊다': 403, '작다': 404, '맛': 405, '짜증': 406, '빨리': 407, '이제': 408, '졸작': 409, 'ㅋㅋㅋㅋ': 410, '머': 411, '점점': 412, '놓다': 413, '다르다': 414, '년전': 415, '야하다': 416, '충분하다': 417, '개인': 418, '뜨다': 419, '추억': 420, '물': 421, '순간': 422, '스릴러': 423, '여배우': 424, '돌리다': 425, '내다': 426, '애니메이션': 427, '떠나다': 428, '가지': 429, '이딴': 430, '자기': 431, '좀비': 432, '더빙': 433, '손': 434, '그래서': 435, '진부하다': 436, '원': 437, '작가': 438, '맘': 439, '에선': 440, '행복하다': 441, '소': 442, '우리나라': 443, '노력': 444, '산': 445, '회': 446, '가요': 447, '로맨스': 448, '쓸다': 449, '떨어지다': 450, '스럽다': 451, '어울리다': 452, '상황': 453, '잼': 454, '해': 455, '살': 456, '멀다': 457, '오늘': 458, '화이팅': 459, '게임': 460, '읽다': 461, '티비': 462, '피': 463, '류': 464, '어': 465, '옛날': 466, '년도': 467, '훈훈하다': 468, '더럽다': 469, '코믹': 470, '스릴': 471, '오글거리다': 472, '노래': 473, '연인': 474, '든': 475, '시나리오': 476, '불쾌하다': 477, '싸우다': 478, '여기': 479, '터지다': 480, '엉': 481, '차라리': 482, '공포영화': 483, '팔': 484, '소름': 485, '스파이더맨': 486, '너무나도': 487, '막': 488, '그것': 489, '낫다': 490, '멜로': 491, '뻔': 492, '드럽다': 493, '간': 494, '대체': 495, '관객': 496, 'ㅉㅉ': 497, '그저': 498, '언제': 499, '그대로': 500, '중간': 501, '다큐': 502, '살인': 503, '어디': 504, '집': 505, '어설프다': 506, '엉망': 507, '밉다': 508, '특유': 509, '만들어지다': 510, '서다': 511, '답': 512, '지겹다': 513, '어린이': 514, '한마디': 515, '당하다': 516, '상당하다': 517, '아무': 518, '등': 519, '히': 520, '대사': 521, '훌륭하다': 522, '책': 523, '날': 524, '라니': 525, '망하다': 526, '개연': 527, '거기': 528, '슬픔': 529, '비디오': 530, '안타깝다': 531, '세상': 532, '진행': 533, '실제': 534, '사건': 535, '편': 536, '평생': 537, '봄': 538, '곳': 539, '통해': 540, '느껴지다': 541, '같이': 542, '존재': 543, '실화': 544, '분위기': 545, '이에요': 546, '등장': 547, '궁금하다': 548, '군': 549, '접': 550, '장르': 551, '화면': 552, '기적': 553, '억': 554, '가볍다': 555, '제대로': 556, '발': 557, '마다': 558, '치다': 559, '착하다': 560, '이라도': 561, '도안': 562, '명': 563, 'ㅇ': 564, '방법': 565, '뛰어나다': 566, '가면': 567, '다니다': 568, '소설': 569, '혼자': 570, '이정': 571, '비슷하다': 572, '억지스럽다': 573, 'ㅋㅋㅋㅋㅋ': 574, '에요': 575, '새롭다': 576, '유': 577, '킬링타임': 578, '너무나': 579, '실감': 580, '도대체': 581, '순수하다': 582, '또한': 583, '이냐': 584, '나르다': 585, '왠만하다': 586, '질': 587, '죽이다': 588, '조절': 589, '왠지': 590, '배경': 591, '예산': 592, '판': 593, '나쁘다': 594, '후회': 595, '사랑스럽다': 596, '그때': 597, '동': 598, '댓글': 599, '가보다': 600, '역': 601, '답답하다': 602, '어렵다': 603, '극장판': 604, '세계': 605, '딸': 606, '부': 607, '부족하다': 608, '장': 609, '얘기': 610, '돌아가다': 611, '조폭': 612, '주': 613, '탄탄하다': 614, '사회': 615, '멋있다': 616, '최고다': 617, '누가': 618, '스': 619, '보내다': 620, '잃다': 621, '영원하다': 622, '놀라다': 623, '엔딩': 624, '씨': 625, '복수': 626, '아오': 627, '상영': 628, '미화': 629, '전작': 630, '뭐라다': 631, '어색하다': 632, '유럽': 633, '간만': 634, '까진': 635, '혹은': 636, '티': 637, '만의': 638, '써다': 639, '기억나다': 640, '죽음': 641, '예술': 642, '강': 643, '만하': 644, '돋다': 645, '함께': 646, '총': 647, '팬': 648, '분들': 649, '시즌': 650, '목소리': 651, '흠': 652, '초등학교': 653, '반개': 654, '반복': 655, '화려하다': 656, '취향': 657, '이기': 658, '주제': 659, '라도': 660, '평가': 661, '상': 662, '북한': 663, '터': 664, '동화': 665, '적다': 666, '완전하다': 667, '무겁다': 668, '깊이': 669, '바로': 670, '예전': 671, '삼': 672, '몰입도': 673, '차': 674, '라서': 675, '매우': 676, '흥행': 677, '갈등': 678, '시작': 679, '별루': 680, '성룡': 681, 'ㅋㅋㅋㅋㅋㅋ': 682, '인거': 683, '술': 684, '끌': 685, '현': 686, '생애': 687, '전부': 688, '에서도': 689, '자극': 690, '화끈하다': 691, '완성': 692, '순': 693, '사극': 694, '그녀': 695, '시종일관': 696, '얼마나': 697, '나서다': 698, '따다': 699, '실력': 700, '기존': 701, '보': 702, '청춘': 703, '돌아오다': 704, '까지도': 705, '면서': 706, '래': 707, '필요': 708, '네이버': 709, '닿다': 710, '허무하다': 711, '비': 712, '귀신': 713, '기도': 714, '묘사': 715, '역사': 716, '색다르다': 717, '액션영화': 718, '범죄': 719, '느와르': 720, '어디서': 721, '드': 722, '소리': 723, '비추다': 724, '편이': 725, '이름': 726, '즐겁다': 727, '겁나다': 728, '비다': 729, '당신': 730, '닮다': 731, '이지': 732, '그러나': 733, '영화로': 734, '기다': 735, '감다': 736, '말고': 737, '화보': 738, '이번': 739, '사실': 740, '진': 741, '그렇게': 742, '흐르다': 743, '물론': 744, '바라다': 745, '정말로': 746, '망작': 747, '즐기다': 748, '만화': 749, '확실하다': 750, '필요하다': 751, '감사하다': 752, '남기다': 753, '영화관': 754, '분명하다': 755, '빼다': 756, '생각나다': 757, '억지': 758, '찾다': 759, '에서는': 760, '씬': 761, '남녀': 762, '무': 763, '성하다': 764, '싫어하다': 765, '아저씨': 766, '역겹다': 767, '존나': 768, '희망': 769, '드리다': 770, '머리': 771, '맞추다': 772, '걸작': 773, '영화인': 774, '선택': 775, '끼리': 776, '예고편': 777, '걱정': 778, '지나다': 779, '설득': 780, '평': 781, '울': 782, '가지다': 783, '으로도': 784, '촬영': 785, '어휴': 786, '만나다': 787, '안좋다': 788, '오버': 789, '마': 790, '학년': 791, '엿': 792, '볼때': 793, '눈물나다': 794, '절제': 795, '신': 796, '노': 797, '어거지': 798, '매번': 799, '이르다': 800, '탁월하다': 801, '열정': 802, '안나': 803, '단순하다': 804, 'ㅇㅇ': 805, '낭비': 806, '상태': 807, '대다': 808, '용이': 809, '수도': 810, '충격': 811, '심심하다': 812, '악역': 813, '일상': 814, '은희': 815, '백': 816, '들어가다': 817, '빨': 818, '진정': 819, '때리다': 820, '강추': 821, '쫌': 822, '산만하다': 823, '태어나다': 824, '불륜': 825, '짬뽕': 826, '미국': 827, '지난': 828, '연기자': 829, '따로': 830, '아들': 831, '나라': 832, '케이블': 833, '한석규': 834, '후반': 835, '혹': 836, '쩔다': 837, '잔인하다': 838, '아끼다': 839, '로써': 840, '유쾌하다': 841, '죽': 842, '흥미롭다': 843, '거슬리다': 844, '힘드다': 845, '싫다': 846, '화가': 847, '생': 848, '으': 849, '이든': 850, '새벽': 851, '여정': 852, '사로자다': 853, '언': 854, '대가': 855, '일단': 856, '란': 857, '바라보다': 858, '엄마': 859, '겁니다': 860, '신나다': 861, '시절': 862, '빠져들다': 863, '본인': 864, '묻다': 865, '안습': 866, '짧다': 867, '적당하다': 868, '월': 869, '쇼': 870, '부르다': 871, '휴': 872, '중요하다': 873, '질질': 874, '앞': 875, '누군가': 876, '지루함': 877, '파다': 878, '딱하다': 879, '인하다': 880, '준': 881, '걸다': 882, '끼다': 883, '천재': 884, '대작': 885, '개다': 886, '둘': 887, '탑': 888, '마저': 889, '의도': 890, '와는': 891, '강하다': 892, '흥미진진': 893, '첨': 894, '평균': 895, '제작비': 896, '끌다': 897, '리얼': 898, '레전드': 899, '형': 900, '나중': 901, '망치다': 902, '따르다': 903, '평론가': 904, '바꾸다': 905, '아누': 906, '밥': 907, '엄청': 908, '단': 909, '영활': 910, '공부': 911, '사다': 912, '아픔': 913, '며': 914, '관': 915, '아무리': 916, '그런': 917, '일이': 918, '만으로도': 919, '짐승': 920, '자막': 921, '숨다': 922, '속편': 923, '올해': 924, '조': 925, '들이다': 926, '대안': 927, '풀다': 928, '길': 929, '타': 930, '바람': 931, '벌써': 932, '째': 933, '최근': 934, '스타': 935, '전체': 936, '약하다': 937, '기키': 938, '내놓다': 939, '가족영화': 940, '제작': 941, '장가': 942, '아줌마': 943, '누구': 944, '짓': 945, '그게': 946, '덕분': 947, '타다': 948, '철학': 949, '남성': 950, '요소': 951, '그나마': 952, '시도': 953, '용도': 954, '여주': 955, '너무도': 956, '쓰래': 957, '으로는': 958, '황당하다': 959, '프랑스': 960, '출연': 961, '영화감독': 962, '채널': 963, '꿀잼': 964, '입다': 965, '죠': 966, '선': 967, '확': 968, '줌': 969, '혹시': 970, '훨씬': 971, '각본': 972, '개념': 973, '특수': 974, '효과': 975, '연결': 976, '뿐이다': 977, '편집': 978, '먼저': 979, '로는': 980, '찬사': 981, '심리': 982, '무엇': 983, '분석': 984, '달다': 985, '허준': 986, '나타나다': 987, '초딩': 988, '조차': 989, '무재': 990, '돋보이다': 991, '늙다': 992, '헐리우드': 993, '향수': 994, '울면': 995, '뛰다': 996, '올': 997, '문': 998, '냥': 999, '긴장': 1000, '뒤': 1001, '없어지다': 1002, '깨알': 1003, '뜻': 1004, '음식': 1005, '평범하다': 1006, '는걸': 1007, '중반': 1008, '납득': 1009, '고추': 1010, '발연기': 1011, '죄인': 1012, '은은하다': 1013, '발견': 1014, '탈': 1015, '미소': 1016, '올리다': 1017, '간다': 1018, '물건': 1019, '오': 1020, '불가': 1021, '마이너스': 1022, '잠시': 1023, '콩': 1024, '어쩌라고': 1025, '카리스마': 1026, '전개도': 1027, '극적': 1028, '맨날': 1029, '온': 1030, '예요': 1031, '현대': 1032, '말로': 1033, '민간인': 1034, '학살': 1035, '에피소드': 1036, '조작': 1037, '열리다': 1038, '아무나': 1039, '걸리다': 1040, '계': 1041, '아햏햏': 1042, '사진': 1043, '진창': 1044, '내일': 1045, '떠오르다': 1046, '행복': 1047, '왕': 1048, '망치': 1049, '흥미': 1050, '허풍': 1051, '잡다': 1052, '헐다': 1053, '배역': 1054, '젤': 1055, '교훈': 1056, '담기다': 1057, '감히': 1058, '여전하다': 1059, '퀄리티': 1060, '국산': 1061, '일품': 1062, '지네': 1063, '타란티노': 1064, '한편': 1065, '외국': 1066, '상상': 1067, '재밋': 1068, '심하다': 1069, '치고': 1070, '지키다': 1071, '사운드': 1072, '춤': 1073, '어제': 1074, '굉장하다': 1075, '생기다': 1076, '풍': 1077, '무당': 1078, '잠': 1079, '판타지': 1080, '어린시절': 1081, '넘치다': 1082, '생명': 1083, '웃기': 1084, '설레다': 1085, '조연': 1086, '꿈': 1087, '특집': 1088, '이의': 1089, '짜임새': 1090, '황': 1091, '음': 1092, '서스펜스': 1093, '직전': 1094, '따라가다': 1095, '낼': 1096, '최초': 1097, '가치': 1098, '어쩔': 1099, '짱짱': 1100, '다시다': 1101, '피해자': 1102, '이구': 1103, 'ㅜ': 1104, '전달': 1105, '씩': 1106, '언니': 1107, '시선': 1108, '레알': 1109, '그건': 1110, '몰다': 1111, '세기': 1112, '쓸데없이': 1113, '성도': 1114, '토록': 1115, '한심하다': 1116, '연예인': 1117, '갈다': 1118, '땐': 1119, '민망하다': 1120, '아빠': 1121, '봣는데': 1122, '법': 1123, '꺼': 1124, '시대': 1125, '관객수': 1126, '하나님': 1127, '진리': 1128, '신분': 1129, '편도': 1130, '검술': 1131, '틀다': 1132, '대한민국': 1133, '동영상': 1134, '개그': 1135, '뜬금': 1136, '히어로': 1137, '놀이': 1138, '중심': 1139, '인물': 1140, '탈출': 1141, '찝찝하다': 1142, '로봇': 1143, '우연히': 1144, '싸다': 1145, '챙기다': 1146, '거부': 1147, '만약': 1148, '자유': 1149, '순위': 1150, '늦다': 1151, '그래픽': 1152, '도움': 1153, '리브': 1154, '스러운': 1155, '울리다': 1156, '애쓰다': 1157, '자식': 1158, '서로': 1159, '짠하다': 1160, '괜히': 1161, '거리': 1162, '열심히': 1163, '유대인': 1164, '인척': 1165, '찌다': 1166, '변태': 1167, '십': 1168, '두근거리다': 1169, '울컥': 1170, '갑자기': 1171, '쥐': 1172, '기술': 1173, '다음': 1174, '끌리다': 1175, '군대': 1176, '문화': 1177, '곳곳': 1178, '치밀하다': 1179, '싸구려': 1180, '하늘': 1181, '밝혀지다': 1182, '졸다': 1183, '별거': 1184, '흘리다': 1185, '쵝오': 1186, '잘못': 1187, '기독교': 1188, '공포물': 1189, '개뿔': 1190, '일찍': 1191, '관람': 1192, '가끔': 1193, '형님': 1194, '몸매': 1195, '심형래': 1196, '불': 1197, '패러디': 1198, '께': 1199, '나와라': 1200, '들어서다': 1201, '께서': 1202, '세련되다': 1203, '행동': 1204, '접다': 1205, '우울하다': 1206, '동시': 1207, '설명': 1208, '강렬하다': 1209, '메시지': 1210, '명화': 1211, '의하다': 1212, '사기': 1213, '외계인': 1214, '단순': 1215, '쉬다': 1216, '주온': 1217, '가안': 1218, '아련하다': 1219, '여인': 1220, '첫': 1221, '화란': 1222, '구역': 1223, '다행': 1224, '동생': 1225, '절대로': 1226, '뇌': 1227, '특별하다': 1228, '로움': 1229, '상미': 1230, '보통': 1231, '쉬': 1232, '여성': 1233, '식상하다': 1234, '풍기다': 1235, '에겐': 1236, '아기': 1237, '시점': 1238, '난해하다': 1239, '에서의': 1240, '너무하다': 1241, '정작': 1242, '게이': 1243, '관심': 1244, '거장': 1245, '독립영화': 1246, '똑같다': 1247, '도전': 1248, '사촌동생': 1249, '소녀': 1250, '장애인': 1251, '들어오다': 1252, '무협': 1253, '방': 1254, '강요': 1255, '앞뒤': 1256, '자주': 1257, '변하다': 1258, '평소': 1259, '짐': 1260, '흔하다': 1261, '전형': 1262, '이미': 1263, '개판': 1264, '거지': 1265, '늑대': 1266, '연예계': 1267, '호화': 1268, '우우': 1269, '후속작': 1270, '에로': 1271, '되게': 1272, '굿굿굿': 1273, '역대': 1274, '줄다': 1275, '잊혀지다': 1276, '담다': 1277, '이여': 1278, '저렇게': 1279, '마이클': 1280, '성인': 1281, '으리': 1282, '곽지민': 1283, '끔찍하다': 1284, '평이': 1285, '신의': 1286, '달리': 1287, '정': 1288, '일부러': 1289, '본격': 1290, '재': 1291, '때매': 1292, '그런데': 1293, '채우다': 1294, '에게도': 1295, '본방': 1296, '뜬금없이': 1297, '멋': 1298, '으로써': 1299, '터미네이터': 1300, '비교': 1301, '학교': 1302, '이기다': 1303, '혐오': 1304, '개그맨': 1305, '내면': 1306, '수능': 1307, '풀': 1308, '추하다': 1309, '스케일': 1310, '마을': 1311, '참신하다': 1312, '그림': 1313, '전설': 1314, '이면': 1315, '잼남': 1316, '성장': 1317, '우정': 1318, '무의미하다': 1319, '끼': 1320, '그지같다': 1321, '동호': 1322, '원래': 1323, '외': 1324, '몸': 1325, '유리': 1326, '헤어지다': 1327, '얻다': 1328, '본성': 1329, '형제': 1330, '부끄럽다': 1331, '키스': 1332, '외화': 1333, '써로게이트': 1334, '햇': 1335, '다그': 1336, '조정': 1337, '사이': 1338, '커스틴': 1339, '생활': 1340, '보단': 1341, '모': 1342, '달인': 1343, '담백하다': 1344, '깔끔하다': 1345, '사': 1346, '로만': 1347, '자꾸': 1348, '내생': 1349, '재밋음': 1350, '깔다': 1351, '굿바이': 1352, '표절': 1353, '일드': 1354, '학생': 1355, '놀다': 1356, '만찬': 1357, '차이': 1358, '경': 1359, '센스': 1360, '깨닫다': 1361, '꽃': 1362, '검사': 1363, '아시': 1364, '패션': 1365, '키이라': 1366, '알바생': 1367, '소소하다': 1368, '한데': 1369, '이민기': 1370, '초기': 1371, '패': 1372, '바': 1373, '리스': 1374, '누': 1375, '다크': 1376, '월드': 1377, '기본': 1378, '어루만지다': 1379, '세르게이': 1380, '맵다': 1381, '꼬마': 1382, '푹': 1383, '차갑다': 1384, '일본인': 1385, '상상력': 1386, '예측': 1387, '당황': 1388, '아무튼': 1389, '밋밋하다': 1390, '느리다': 1391, '가슴속': 1392, '명백하다': 1393, '살인자': 1394, '재탕': 1395, '이라니': 1396, '불구': 1397, '박시환': 1398, '이틀': 1399, '만에': 1400, '넣다': 1401, '안이': 1402, '온몸': 1403, '민중': 1404, '코드': 1405, '단연': 1406, '우뢰매': 1407, '위대하다': 1408, '서기': 1409, '메인': 1410, '광고': 1411, 'ㅎㅎㅎ': 1412, '믹스': 1413, '기준': 1414, '중국인': 1415, '고증': 1416, '스스로': 1417, '과대': 1418, '숀펜': 1419, '상대': 1420, '보아': 1421, '만이라도': 1422, '모자라다': 1423, '용기': 1424, '전하': 1425, '채': 1426, '그릇': 1427, '질린다': 1428, '살짝': 1429, '만해': 1430, '떨다': 1431, '짱짱맨': 1432, '고민': 1433, '섹시하다': 1434, '드니': 1435, '멀리': 1436, '유명': 1437, '방송': 1438, '대본': 1439, '김': 1440, '역할': 1441, '해내다': 1442, '의외': 1443, '벌어지다': 1444, 'ㅈ': 1445, '앉다': 1446, '주된': 1447, '일반': 1448, '통': 1449, '추다': 1450, '참다': 1451, '스텝': 1452, '꼭두각시': 1453, '극치': 1454, '듣기': 1455, '주기도': 1456, '짜지다': 1457, '돼지': 1458, '우웩': 1459, '짓다': 1460, '지옥': 1461, '지나치다': 1462, '쏙': 1463, '초': 1464, '주네': 1465, '보고오다': 1466, '싸이코': 1467, '벗어나다': 1468, '만이': 1469, '지나가다': 1470, '무한': 1471, '최고봉': 1472, '이안': 1473, '후세': 1474, '계기': 1475, '출현': 1476, '본능': 1477, '재밋어': 1478, '닥치고': 1479, '미묘하다': 1480, '응답': 1481, '하라': 1482, '가져오다': 1483, '오우삼': 1484, '제로': 1485, '배경음악': 1486, '화남': 1487, '형태': 1488, '미로': 1489, '요리': 1490, '괴물': 1491, '흡입': 1492, '버킷리스트': 1493, '긍정': 1494, '해피': 1495, '정치인': 1496, '모순': 1497, '주년': 1498, 'ㅄ': 1499, '개그콘서트': 1500, '없애다': 1501, '감각': 1502, '시각': 1503, '이따위': 1504, '생생하다': 1505, '필름': 1506, '혀': 1507, '할머니': 1508, '정은지': 1509, '트로트': 1510, '여자애': 1511, '굳이': 1512, '물폭탄': 1513, '딸리다': 1514, '굳다': 1515, '계시다': 1516, '호구': 1517, '런가': 1518, '작살': 1519, '야경': 1520, '꾼': 1521, '넘어가다': 1522, '즉': 1523, '훅': 1524, '수록': 1525, '아역': 1526, '민폐': 1527, '싸하다': 1528, '송강호': 1529, '금지': 1530, '해석': 1531, '재치': 1532, '당대': 1533, '결코': 1534, '루': 1535, '다리': 1536, '암': 1537, '지고': 1538, '뭉클하다': 1539, '살아가다': 1540, '비정하다': 1541, '처': 1542, '다듬다': 1543, '매끄럽다': 1544, '비롯': 1545, '군더더기': 1546, '포스': 1547, '다미': 1548, '지대': 1549, 'ㅋㅋㅋㅋㅋㅋㅋ': 1550, '보다도': 1551, '역작': 1552, '핵': 1553, '펭귄': 1554, '국민': 1555, '으로만': 1556, '핀': 1557, '랄': 1558, '다가': 1559, '지존파': 1560, '정당화': 1561, '정부': 1562, '탓': 1563, '매칭': 1564, '트리스탄': 1565, '흉내': 1566, '쌍': 1567, '치르다': 1568, '단지': 1569, '모으다': 1570, '메세지': 1571, '영화사': 1572, '뛰어넘다': 1573, '살인마': 1574, '빌리다': 1575, '서글프다': 1576, '절망': 1577, '어마어마하다': 1578, '똥': 1579, '미국인': 1580, '맞서다': 1581, '원주민': 1582, '견자단': 1583, '으로나': 1584, '다소': 1585, '영화평론가': 1586, '경의': 1587, '길다': 1588, '살아오다': 1589, '엇': 1590, '요구': 1591, '도와주다': 1592, 'ㅡ': 1593, '높이다': 1594, '사라지다': 1595, '압': 1596, '권': 1597, '인형': 1598, '샤넬': 1599, '성공': 1600, '세월': 1601, '찰나': 1602, '적임': 1603, '난감하다': 1604, '깜짝': 1605, '대놓고': 1606, '용서': 1607, '에릭': 1608, '선생님': 1609, '그리움': 1610, '미안하다': 1611, '미스캐스팅': 1612, '땜': 1613, '무기': 1614, '과는': 1615, '한예슬': 1616, '약간': 1617, '신인': 1618, '디테': 1619, '탕웨이': 1620, '찡': 1621, '주기': 1622, 'ㅋㅋㅋㅋㅋㅋㅋㅋ': 1623, '로버트': 1624, '정치': 1625, '전반': 1626, '변화': 1627, '절실': 1628, '베다': 1629, '복선': 1630, '섬세하다': 1631, '갖추다': 1632, '신파': 1633, '사고': 1634, '겨': 1635, '감수성': 1636, '번만': 1637, '추가': 1638, '상술': 1639, '함부로': 1640, '글쎄': 1641, '웬만하다': 1642, '종영': 1643, '착각': 1644, '다가오다': 1645, '삭제': 1646, '자동차': 1647, '매니아': 1648, '이하': 1649, '정체': 1650, '오르다': 1651, '쩐다': 1652, '제보': 1653, '재방': 1654, '관계': 1655, '스펙': 1656, '응원': 1657, '부탁드리다': 1658, '노출': 1659, '로나': 1660, '삼류': 1661, '유머': 1662, '촌스럽다': 1663, '뎀': 1664, '조잡하다': 1665, '루즈': 1666, '승부': 1667, '웅장': 1668, '들보': 1669, '초등': 1670, '근래': 1671, '멍청하다': 1672, '제작자': 1673, '신경': 1674, '미흡하다': 1675, '픽션': 1676, '압축': 1677, '님들': 1678, '이해관계': 1679, '젠': 1680, '낳다': 1681, '영웅': 1682, '원하다': 1683, '깨': 1684, '포르노': 1685, '드릴': 1686, '한계': 1687, '통쾌하다': 1688, '만족하다': 1689, '모호하다': 1690, '꿈꾸다': 1691, '기르다': 1692, '이크': 1693, '불다': 1694, '부진': 1695, '데넘': 1696, '종교': 1697, '업': 1698, '박수': 1699, '치유': 1700, '양심': 1701, '끼우다': 1702, '습': 1703, '무어': 1704, '최루성': 1705, '빵빵': 1706, '담배': 1707, '남편': 1708, '형편': 1709, '맨': 1710, '영화상': 1711, '린다': 1712, '신기하다': 1713, '데리': 1714, '슴': 1715, '제제': 1716, '애틋하다': 1717, '도입': 1718, '카메라': 1719, '박사': 1720, '던데': 1721, '아이디어': 1722, '아기자기하다': 1723, '미스터리': 1724, '세다': 1725, '고도': 1726, '이상은': 1727, '만점': 1728, '추잡하다': 1729, '솜': 1730, '주윤발': 1731, '모니터링': 1732, '산업': 1733, '홍보': 1734, '여서': 1735, '욕망': 1736, '전차': 1737, '디': 1738, '워': 1739, '부류': 1740, '주목': 1741, '도통': 1742, '우주': 1743, '맡다': 1744, '쳐다보다': 1745, '이라서': 1746, '말고도': 1747, '겪다': 1748, '그만큼': 1749, '하트넷': 1750, '이미지': 1751, '베드': 1752, '외모': 1753, '콜린': 1754, '난이': 1755, '물씬': 1756, '이성재': 1757, '에서만': 1758, '오로지': 1759, '청': 1760, '하고는': 1761, '쏘다': 1762, '라이언': 1763, '일병': 1764, '조커': 1765, '피해': 1766, '자위': 1767, '과학': 1768, '공자': 1769, '빛': 1770, '크리스': 1771, '집중': 1772, '정신차리다': 1773, '에나': 1774, '미드': 1775, '청소년': 1776, '선정': 1777, '솔로': 1778, '링': 1779, '아침': 1780, '대표': 1781, '김치': 1782, '가게': 1783, '분신': 1784, '안다': 1785, '약': 1786, '다니엘헤니': 1787, '프레디': 1788, '러닝': 1789, '타임': 1790, '즈': 1791, '솜씨': 1792, '듬': 1793, '레이': 1794, '만화책': 1795, '비밀': 1796, '보다는': 1797, '새': 1798, '마냥': 1799, '하하호호': 1800, '시청자': 1801, '그만하다': 1802, '이래서': 1803, '틀리다': 1804, '어처구니': 1805, '골목': 1806, '색깔': 1807, '충실하다': 1808, '따위': 1809, '곡': 1810, '화전': 1811, '장편': 1812, '자르다': 1813, '마련': 1814, '적히다': 1815, '아버지': 1816, '로서': 1817, '미학': 1818, '여러분': 1819, '폭력': 1820, '실험': 1821, '겠다': 1822, '나발': 1823, '컴퓨터': 1824, '누르다': 1825, '옴니버스': 1826, '극복': 1827, '가능하다': 1828, '흠잡다': 1829, '믄': 1830, '와이': 1831, '특이하다': 1832, '정당하다': 1833, '일어나다': 1834, '연애': 1835, '카타르': 1836, '시스': 1837, '구경': 1838, '조금씩': 1839, '놀래다': 1840, '던지다': 1841, '그걸': 1842, '낭만': 1843, '흑인': 1844, '구식': 1845, '알리다': 1846, '끝내주다': 1847, '루크': 1848, '손발': 1849, '고래': 1850, '국가': 1851, '지구': 1852, '주말': 1853, '더불다': 1854, '도르다': 1855, '주님': 1856, '근': 1857, '동안': 1858, '오는': 1859, '현재': 1860, 'ㅠㅠㅠㅠ': 1861, 'ㅋㅋㅋㅋㅋㅋㅋㅋㅋㅋㅋㅋㅋ': 1862, '옛': 1863, '허전하다': 1864, '고양이': 1865, '마이': 1866, '년생': 1867, '샷': 1868, '줄거리': 1869, '노인': 1870, '베이': 1871, '블록버스터': 1872, '고치다': 1873, '바보': 1874, '왕자': 1875, '반갑다': 1876, '모텔': 1877, '딱이다': 1878, '질적': 1879, '외면': 1880, '패턴': 1881, '어쩌면': 1882, '인턴': 1883, '랜턴': 1884, '경찰': 1885, '안보': 1886, '스탤론': 1887, '플롯': 1888, '밋': 1889, '당': 1890, '잉': 1891, '기한': 1892, '대신': 1893, '성공하다': 1894, '공룡': 1895, '중때': 1896, '장선우': 1897, '복잡하다': 1898, '질문': 1899, '등장인물': 1900, '첨으로': 1901, '스타일': 1902, '쫓겨나다': 1903, '그럭저럭': 1904, '늘어지다': 1905, '시골': 1906, '나머지': 1907, '격': 1908, '생기': 1909, '사수': 1910, '킴': 1911, '지경': 1912, '찬양': 1913, '아이유': 1914, '빨다': 1915, '박진': 1916, '시기': 1917, '무조건': 1918, '붙이다': 1919, '우디': 1920, '번은': 1921, 'ㅍ': 1922, '존경': 1923, '하하': 1924, '결': 1925, '장동민': 1926, '해오다': 1927, '잡스': 1928, '지상파': 1929, '마르다': 1930, '땅': 1931, '서른': 1932, '수지': 1933, '오류': 1934, '올라오다': 1935, '야동': 1936, '배려': 1937, '진정하다': 1938, '능력': 1939, '복습': 1940, '수십': 1941, '가시다': 1942, '게이고': 1943, '부여': 1944, '워드': 1945, '암튼': 1946, '임권택': 1947, '아쉬움': 1948, '웬디': 1949, '똑같이': 1950, '편견': 1951, '의학': 1952, '스런': 1953, '그닥': 1954, '줍다': 1955, '는바': 1956, '정답': 1957, '움직이다': 1958, '저희': 1959, '더욱': 1960, '소중하다': 1961, '에다': 1962, '지리다': 1963, '타짜': 1964, '잘만': 1965, '태국': 1966, '열다': 1967, '올려놓다': 1968, '낯선': 1969, '독특하다': 1970, '궁': 1971, '우아하다': 1972, '이자벨': 1973, '감상': 1974, '귀': 1975, '음모론': 1976, '허세': 1977, '팔이': 1978, '오래': 1979, '강철중': 1980, '지지': 1981, '소화': 1982, '날리다': 1983, 'ㅅㅂ': 1984, '어른': 1985, '리뷰': 1986, '에게는': 1987, '커플': 1988, '스럽게': 1989, '포기': 1990, '섹시': 1991, '영환': 1992, 'ㄷㄷ': 1993, '덜': 1994, '사신': 1995, '운': 1996, '회사': 1997, '박시후': 1998, '흡혈': 1999, '식물': 2000, '노답': 2001, '보나': 2002, '제시카': 2003, '젛': 2004, '신데렐라': 2005, '성의': 2006, '안기다': 2007, '유발': 2008, '손자': 2009, '순수': 2010, '주지': 2011, '보라': 2012, '모기': 2013, '매니': 2014, '질리': 2015, '운지': 2016, '홍어': 2017, '리메이크': 2018, '꼴': 2019, '닥': 2020, '성우': 2021, '에서나': 2022, '아바타': 2023, '이전': 2024, '아무렇다': 2025, '아놀드': 2026, '어도': 2027, '달달': 2028, '수고': 2029, '원표': 2030, '늘리다': 2031, '욬': 2032, '고장': 2033, '좋아지다': 2034, '밧다': 2035, '환상': 2036, '호흡': 2037, '굿굿': 2038, 'ㅁㅇ': 2039, '해님': 2040, '존론': 2041, '양': 2042, 'ㅂㅅ': 2043, '제니': 2044, '라이트': 2045, '무덤': 2046, '심장': 2047, '너희': 2048, '르완다': 2049, '난민': 2050, '남지': 2051, '달': 2052, '무서움': 2053, '국적': 2054, '반': 2055, '여러': 2056, '외설': 2057, '거의': 2058, '호러': 2059, '빗대다': 2060, '바뀌다': 2061, '윤후': 2062, '최후': 2063, '초등학생': 2064, '여친': 2065, '살아나다': 2066, '배우다': 2067, '관점': 2068, '뱀파이어': 2069, '불편하다': 2070, '트': 2071, '누리': 2072, '경험': 2073, '지현우': 2074, '빵터지다': 2075, '썩다': 2076, '개꿀잼': 2077, '감탄': 2078, '형사': 2079, '죄': 2080, '늘': 2081, '예진': 2082, '뽜': 2083, '쥬산': 2084, '데이': 2085, '아부지': 2086, '물결': 2087, '몬스터왕국': 2088, '밓었': 2089, '래서': 2090, '교도소': 2091, '구먼': 2092, '몬페': 2093, '익살스럽다': 2094, '던스트': 2095, '걸음': 2096, '생인': 2097, '이응경': 2098, '길용우': 2099, '납치': 2100, '감금': 2101, '왜케': 2102, '길들이다': 2103, '인피니트': 2104, '허진호': 2105, '횡단보도': 2106, '건너다': 2107, '이범수': 2108, '잊어버리다': 2109, '존중': 2110, '다지': 2111, 'ㄱ': 2112, '바스코': 2113, '락스': 2114, '바비': 2115, '아이돌': 2116, '안달': 2117, '레닌': 2118, '질퍽': 2119, '산뜻하다': 2120, '용구성': 2121, '버무러진': 2122, '약탈': 2123, '변명': 2124, '심오하다': 2125, '선생': 2126, '불가능하다': 2127, '바베트': 2128, '남바': 2129, '베트': 2130, '핀란드': 2131, '풍경': 2132, '할랫': 2133, '말씀드리다': 2134, '짤랐을꺼': 2135, '털다': 2136, '카밀라': 2137, '벨': 2138, '재밋는뎅': 2139, '엄포스': 2140, '위력': 2141, '적남': 2142, '명품': 2143, '졸': 2144, '윈': 2145, '투어': 2146, '나이틀리': 2147, '정신장애': 2148, '틱장애': 2149, '허허': 2150, '유령': 2151, '싱겁다': 2152, '낚임': 2153, '서리': 2154, '굶주리다': 2155, 'ㅜㅡ': 2156, '윤제문': 2157, '머금': 2158, '속지': 2159, '리얼리티': 2160, '정신의학': 2161, '분노조절': 2162, '장애': 2163, '증상': 2164, '툭하면': 2165, '파손': 2166, '뮤비': 2167, '타르': 2168, '가르다': 2169, '엔나': 2170, '용의': 2171, '주인': 2172, '근친상간': 2173, '메': 2174, '니스': 2175, '드래곤': 2176, '토르': 2177, '잡수다': 2178, '선방': 2179, '영혼': 2180, '거치다': 2181, '상사': 2182, '포퐁': 2183, '저그': 2184, '진호': 2185, '시리': 2186, '난또': 2187, '애가': 2188, '원한': 2189, '나대다': 2190, '꺼지다': 2191, '활': 2192, '이라고는': 2193, '지독하다': 2194, '무자비하다': 2195, '백봉기': 2196, '들어맞다': 2197, '불알': 2198, '녹다': 2199, '한두': 2200, '컷': 2201, '대만': 2202, '헤집다': 2203, '사의': 2204, '단면': 2205, '사죄': 2206, '잡기': 2207, '듣다': 2208, '보도': 2209, '연맹': 2210, '탕': 2211, '사골': 2212, '우려': 2213, '먹듯': 2214, '아예': 2215, '부작': 2216, '김남길': 2217, '손예진': 2218, 'ㅈㅈ': 2219, '노래실력': 2220, '뽑다': 2221, '망신': 2222, '활짝': 2223, '문자': 2224, '비번': 2225, '재밋네': 2226, '달팽이': 2227, '부패하다': 2228, '로마노프': 2229, '왕조': 2230, '기리': 2231, '뭣같': 2232, '항거': 2233, '러시아': 2234, '폭도': 2235, '무난': 2236, '펴다': 2237, '화해': 2238, '남발': 2239, '분만': 2240, '리플릿': 2241, '불안하다': 2242, '럼': 2243, '조미': 2244, '막문위': 2245, '골깜': 2246, '부라리다': 2247, '쓰러지다': 2248, '골': 2249, '걸스데이': 2250, '이혜리': 2251, '인공': 2252, '주귀': 2253, '어내스트': 2254, '셀레스틴': 2255, '클라라': 2256, '볼라': 2257, '화신': 2258, '차차': 2259, '신카이': 2260, '마코토': 2261, '작화': 2262, '카나': 2263, '이훨': 2264, '고은님': 2265, '노골': 2266, '크리스마스': 2267, '음향': 2268, '별루더': 2269, '패널': 2270, '가구': 2271, '서운하다': 2272, '몬스터': 2273, '주식회사': 2274, '투': 2275, '박하다': 2276, '과장': 2277, '안간힘': 2278, '가상하다': 2279, '거북': 2280, '포장': 2281, '불법체류자': 2282, '우상화': 2283, '뭥미': 2284, '삶속': 2285, '드러나다': 2286, '지나': 2287, '올레': 2288, '공짜': 2289, '라미란': 2290, '욕심': 2291, '쪽': 2292, '빵점': 2293, '베댓': 2294, '잘쓰다': 2295, '도둑': 2296, '뫼비우스': 2297, '믿어지다': 2298, '찌릿짜릿': 2299, '화이': 2300, '주입': 2301, '식이': 2302, '덴': 2303, '리투': 2304, '차이밍량': 2305, '섞이다': 2306, '여군': 2307, '엠비씨': 2308, '김혜수': 2309, '어딘': 2310, '에볼라': 2311, '바이러스': 2312, '떠들다': 2313, '석': 2314, '어떤': 2315, '부가': 2316, '용가리': 2317, '하나로': 2318, '꼽': 2319, '모건': 2320, '프리': 2321, '재방송': 2322, '시나': 2323, '상업': 2324, '노출씬': 2325, '보임': 2326, '끝내': 2327, '맥스': 2328, '샘': 2329, '바랬다': 2330, '스러웟음': 2331, '찍을껀데': 2332, '면상': 2333, '동심': 2334, '무술': 2335, '총을드': 2336, '크리스토퍼': 2337, '왈츠': 2338, '조합': 2339, '초월': 2340, '유명하다': 2341, '종방': 2342, '방도': 2343, '지치다': 2344, '수백향': 2345, '바른': 2346, '위원회': 2347, '김혜선': 2348, '순정': 2349, '정이': 2350, '팜므파탈': 2351, '논란': 2352, '멍하다': 2353, '공유': 2354, '존잘': 2355, '상쾌': 2356, '발랄하다': 2357, '껄끄런': 2358, '해설': 2359, '소파': 2360, '로큰롤': 2361, '타겟': 2362, '논리': 2363, '요원': 2364, '무능력하다': 2365, '뮤지컬': 2366, '녹음': 2367, '말리': 2368, '영국': 2369, '뮤지컬영화': 2370, '맘마미아': 2371, '로맨틱코미디': 2372, '게이물': 2373, '알고싶다': 2374, '익숙해지다': 2375, '현대인': 2376, '뻑뻑': 2377, '볼걸': 2378, '언밸러스': 2379, '뚱뚱하다': 2380, '고역': 2381, '간간히': 2382, '흘러나오다': 2383, '클래식': 2384, '조차도': 2385, '인가요': 2386, '죄송하다': 2387, '닭목': 2388, '가져가다': 2389, '윤종신': 2390, '복귀': 2391, '이하늘': 2392, '뽑히다': 2393, '참가자': 2394, '심사': 2395, '위원': 2396, '인격': 2397, '쌓다': 2398, '어허': 2399, '광장': 2400, '판타지영화': 2401, '금물': 2402, '멜로영화': 2403, '형식': 2404, '탈피': 2405, '사랑비': 2406, '서준': 2407, '젖다': 2408, '접해': 2409, '만큼은': 2410, '젊음': 2411, '건담': 2412, '개콘': 2413, '코너': 2414, '사다코': 2415, '서린': 2416, '우물': 2417, '펀치': 2418, '결정': 2419, '람': 2420, '빼앗다': 2421, '연극': 2422, '이래': 2423, '강수연': 2424, '최정원': 2425, '신음': 2426, '김혜성': 2427, '이현진': 2428, '가발': 2429, '이인상': 2430, '배두나': 2431, '대들다': 2432, '성적': 2433, '호기심': 2434, '각기': 2435, '미국드라마': 2436, '파워': 2437, '은지원': 2438, '배꼽': 2439, '컴': 2440, '부실하다': 2441, '장끌': 2442, '로드': 2443, '몰락': 2444, '제적': 2445, '영웅본색': 2446, '학창시절': 2447, '영양가': 2448, '이승기': 2449, '현충일': 2450, '프로': 2451, '제대': 2452, '휴가': 2453, '다녀오다': 2454, '소박하다': 2455, '햇살': 2456, '가득하다': 2457, '부엌': 2458, '신현준': 2459, '장군': 2460, '뿅': 2461, '재생': 2462, '하진': 2463, '소원': 2464, '들어주다': 2465, '발톱': 2466, '만큼도': 2467, '완존': 2468, '밝다': 2469, '인게': 2470, '무표': 2471, '요홍': 2472, '혜정': 2473, '이그': 2474, '마도': 2475, '후련': 2476, '시원하다': 2477, '월요일': 2478, '정치범': 2479, '재개': 2480, '봉하': 2481, '대희': 2482, '전화': 2483, '끊음': 2484, '서양': 2485, '싸움판': 2486, '푸하하하': 2487, '구만': 2488, '반공': 2489, '애니매이션': 2490, '문학': 2491, '무고': 2492, '감옥살이': 2493, '흑인음악': 2494, '아이스': 2495, '큐브': 2496, '건데': 2497, '알리시아': 2498, '옥소리': 2499, '프로필': 2500, 'ㅋㅋㅋㅋㅋㅋㅋㅋㅋㅋㅋㅋㅋㅋ': 2501, '아우': 2502, '재밓당': 2503, '나타내다': 2504, '이적': 2505, '영화롭다': 2506, '실패': 2507, '모녀': 2508, '토막': 2509, '살해': 2510, '구리지': 2511, '값': 2512, '매미': 2513, '매니저': 2514, '역활': 2515, '훨': 2516, '익숙하다': 2517, 'ㄷㅔ': 2518, '진개': 2519, '천카이거': 2520, '복': 2521, '순이': 2522, '다투다': 2523, '어색': 2524, '연속극': 2525, '인터뷰': 2526, '박스': 2527, '오피스': 2528, '싸움': 2529, '기량': 2530, '조디': 2531, '개막': 2532, '두기': 2533, '쌀': 2534, '명대사': 2535, '뒷받침': 2536, '저스트': 2537, '위드': 2538, '애니스톤': 2539, '실망하다': 2540, '맛깔': 2541, '시베리아': 2542, '훈련': 2543, '달이': 2544, '지존': 2545, '추노': 2546, '저급': 2547, '킁': 2548, '그로': 2549, '즐거움': 2550, '수입': 2551, '테이프': 2552, '불후': 2553, '새롭웠': 2554, '라파스': 2555, '신봉선': 2556, '재탕하다': 2557, '이외': 2558, '의문': 2559, '퀄': 2560, '재기': 2561, '지지다': 2562, '넘어지다': 2563, '유유': 2564, '안개': 2565, '워터': 2566, '마스코트': 2567, '곤': 2568, '사토시': 2569, '예': 2570, '뼈': 2571, '독': 2572, '이겠다': 2573, '츠무구': 2574, '이구나': 2575, '많아지다': 2576, 'ㅝ': 2577, '철': 2578, '뼈대': 2579, '가문': 2580, '섞다': 2581, '박정아': 2582, '펼치다': 2583, '빠순이': 2584, '긔': 2585, '재밋쎠': 2586, '줄리아': 2587, '로버츠': 2588, '예술가': 2589, '베테': 2590, '류승완': 2591, '한창': 2592, '남북': 2593, '거짓': 2594, '평화로': 2595, '이던': 2596, '헐리웃': 2597, '알아차리다': 2598, '가정': 2599, '이만': 2600, '헤드': 2601, '신라': 2602, '달밤': 2603, '푸근하다': 2604, '둑': 2605, '달려가다': 2606, '높아지다': 2607, '의견': 2608, '핑계': 2609, '삼다': 2610, '여부': 2611, '아더': 2612, '원탁': 2613, '기사': 2614, '랜슬롯': 2615, '마치': 2616, '란슬롯': 2617, '검다': 2618, '안대': 2619, '기네': 2620, '비어': 2621, '역도': 2622, '미스': 2623, '하락': 2624, '종착역': 2625, '대유': 2626, '트레비스': 2627, '흘러가다': 2628, '네러티브': 2629, '취미': 2630, '올인': 2631, '학위': 2632, '위조': 2633, '성범죄자': 2634, '제자': 2635, '패자부활전': 2636, '알맞다': 2637, '쩝': 2638, '뜻밖': 2639, '그랜드': 2640, '부다페스트': 2641, '호텔': 2642, '감기': 2643, '투자': 2644, '아이언맨': 2645, '대적': 2646, '해결': 2647, '잡히다': 2648, '조달환': 2649, '정유미': 2650, '비록': 2651, '점차': 2652, '앤드류': 2653, '선사': 2654, '영구': 2655, '땡': 2656, '칠이': 2657, '친척': 2658, '사촌형': 2659, '최신': 2660, '고요하다': 2661, '선속': 2662, '머물다': 2663, '성찰': 2664, '사색': 2665, '펑펑': 2666, 'ㅜㅜㅜ': 2667, '내기': 2668, '박빙': 2669, '심은하': 2670, '눈부시다': 2671, '미모': 2672, '주제가': 2673, '풀리다': 2674, '잔인함': 2675, '비참하다': 2676, '대하': 2677, '페이스': 2678, '퇴색': 2679, '마르': 2680, '와의': 2681, '공주': 2682, '아메리칸': 2683, '투쟁': 2684, '아카데미상': 2685, '부정': 2686, '엇음': 2687, '어딘가': 2688, '일어나고': 2689, '우베': 2690, '정장': 2691, '림프비즈킷': 2692, '쥑': 2693, '엽문': 2694, '오월': 2695, '밤': 2696, '야릇하다': 2697, '반하다': 2698, '명치': 2699, '깨달': 2700, '마는': 2701, '효느': 2702, '대강': 2703, '간첩': 2704, '색휘': 2705, '검증': 2706, '이탈리아': 2707, '절때': 2708, '껄욕': 2709, '환경': 2710, '이이경': 2711, '게뭐': 2712, '가나다라': 2713, '키우다': 2714, '의아': 2715, '예민하다': 2716, '날카로워지다': 2717, '끙끙': 2718, '지수': 2719, '갈팡질팡': 2720, '공효진': 2721, '평수': 2722, '콧대': 2723, '호': 2724, '권상우': 2725, '화산고': 2726, '왼쪽': 2727, '팔자': 2728, '잘생기다': 2729, '장혁': 2730, '말랑말랑': 2731, '저런': 2732, '그린': 2733, '동행': 2734, '토마스': 2735, '유태인': 2736, '가족사진': 2737, '사슴': 2738, '밟다': 2739, '대변': 2740, '므': 2741, '수년': 2742, '상대성': 2743, '이론': 2744, '니노': 2745, '이중인격': 2746, '핫': 2747, '만으로': 2748, '돌진': 2749, '유혹': 2750, '센세이션': 2751, '차이나타운': 2752, '베': 2753, '신화': 2754, '힘내다': 2755, '이민정': 2756, '신하균': 2757, '교양': 2758, '빨갱이': 2759, '지르다': 2760, '몬초': 2761, '단어': 2762, '몬': 2763, '초가': 2764, '울먹이다': 2765, '애기': 2766, '깜놀': 2767, '힘겹다': 2768, '남자배우': 2769, '조은숙': 2770, '김유미': 2771, '세계대전': 2772, '피고': 2773, '일으키다': 2774, '지휘': 2775, '고위': 2776, '장교': 2777, '김태희': 2778, '적월': 2779, '쌤': 2780, '점때': 2781, '이연서': 2782, '답지': 2783, '뵙다': 2784, '피의자': 2785, '주변': 2786, '녀': 2787, '스피디': 2788, '박자': 2789, '시가전': 2790, '완': 2791, '다망': 2792, '반도': 2793, '정상': 2794, '보이': 2795, '아수라': 2796, '공통점': 2797, '스포츠영화': 2798, '광기': 2799, '만끽': 2800, '스릴러물': 2801, '도가니탕': 2802, '서나': 2803, '경제': 2804, '걸치다': 2805, '함정': 2806, '똑똑하다': 2807, '압삘럽': 2808, '숨막히다': 2809, '김영애': 2810, '경극': 2811, '몸짓': 2812, '빙빙': 2813, '평정': 2814, '밀려오다': 2815, '카톡': 2816, '생동감': 2817, '박물관': 2818, '노땅': 2819, '간신히': 2820, '인종차별': 2821, '유괴': 2822, '불협화음': 2823, '고명환': 2824, '쩌': 2825, '후자': 2826, '앨빈': 2827, '밴드': 2828, '로더': 2829, '결투': 2830, '폭풍눈물': 2831, '팝핀현준': 2832, '할아버지': 2833, 'ㄵ': 2834, '선거': 2835, '맙시': 2836, '성향': 2837, '즐': 2838, '성격': 2839, '줄리': 2840, '델피': 2841, '글쎄요': 2842, '성해': 2843, '절절': 2844, '비약': 2845, '행간': 2846, '잃어버리다': 2847, '꽉': 2848, '반대': 2849, '스킨헤드': 2850, '았': 2851, '절': 2852, '성은': 2853, '사치': 2854, '일찐': 2855, '개제': 2856, '남극': 2857, '엑소시스트': 2858, '능가': 2859, '실상': 2860, '처키': 2861, '저조하다': 2862, '귀요미': 2863, '저예산영화': 2864, '영화계': 2865, '다크호스': 2866, '빵': 2867, '뜨겁다': 2868, '이니': 2869, '블랙코미디': 2870, '조롱': 2871, '대상': 2872, '우린': 2873, '성기': 2874, '어그': 2875, '촌': 2876, '동네': 2877, '툭툭': 2878, '쌩뚱': 2879, '만들기': 2880, '칠': 2881, '한개': 2882, '꼽히다': 2883, '민국이': 2884, '지아': 2885, '데뷔': 2886, '이해도': 2887, '저리': 2888, '무리하다': 2889, '띄우다': 2890, '이득': 2891, '박얘쁜': 2892, '빠수니': 2893, '죄다': 2894, '보이지': 2895, '코끼리': 2896, '카메오': 2897, '유치': 2898, '자녀': 2899, '후속': 2900, '찰지다': 2901, '토종': 2902, '성인영화': 2903, '가비': 2904, '의향': 2905, '씁쓸하다': 2906, '장윤현': 2907, '커피': 2908, '관해': 2909, '쓰시': 2910, '진지하다': 2911, '경쾌하다': 2912, '정정은': 2913, '어케된거': 2914, '과도': 2915, '호화롭다': 2916, '아마': 2917, '이본': 2918, '최저': 2919, '캐릭': 2920, '갘': 2921, '능': 2922, '스토리텔링': 2923, '기절': 2924, 'ㅜㅜㅜㅜ': 2925, '날다': 2926, '정화': 2927, '미가': 2928, '끙': 2929, '본분': 2930, '다만': 2931, '또다른': 2932, '희생': 2933, '평작': 2934, '영홥니': 2935, '알럽키': 2936, '중고생': 2937, '마마': 2938, '추어': 2939, '물이': 2940, '영물': 2941, '넌': 2942, '이승연': 2943, '홍경인': 2944, '불쌍하다': 2945, '브라': 2946, '뿜었다': 2947, '계몽영화': 2948, '고스': 2949, '답습': 2950, '우와': 2951, '마침표': 2952, '세얼간이': 2953, '심혜진': 2954, '겨우': 2955, '창업': 2956, '아이템': 2957, '사업': 2958, '험하다': 2959, '스승': 2960, '지침': 2961, '단념': 2962, '박': 2963, '대소': 2964, '독립': 2965, '치고는': 2966, '부자간': 2967, '배신': 2968, '원망': 2969, '낰였다': 2970, '프리미엄': 2971, '이선균': 2972, '정재영': 2973, '김상중': 2974, '파': 2975, '계쇠': 2976, '괴롭다': 2977, '달라': 2978, '반감': 2979, 'ㅣㅆ': 2980, '느덕': 2981, '화하다': 2982, '오락가락': 2983, '왠': 2984, '지모': 2985, '영화제': 2986, '상처': 2987, '퍼스트': 2988, '점주': 2989, '흐뭇하다': 2990, '대우': 2991, '머릿속': 2992, '지우개': 2993, '폭발': 2994, '오늘이': 2995, '월요커플': 2996, '니당다': 2997, '터키': 2998, '스키': 2999, '추격': 3000, '남고': 3001, '수많다': 3002, '건너편': 3003, '이어서': 3004, '심각하다': 3005, '성남': 3006, '금': 3007, '성녀': 3008, '슈발': 3009, '내리다': 3010, '피다': 3011, '마술': 3012, '나볼': 3013, '수나': 3014, '리좀': 3015, '붙다': 3016, '수도승': 3017, '떠내려가다': 3018, '게왜': 3019, '물대포': 3020, '쏠때': 3021, '웃겻다': 3022, '부족함': 3023, '무비': 3024, '고스트라이더': 3025, '스치다': 3026, '사망': 3027, '묵직하다': 3028, '뭉치': 3029, '싸대기': 3030, '고고': 3031, '안쓰럽다': 3032, '마찬가지': 3033, '뚝방': 3034, '찍지마라': 3035, '육감': 3036, '각도': 3037, '라든지': 3038, '화질': 3039, '이라든지': 3040, '구림': 3041, '두고두고': 3042, '아닐런지': 3043, '정시': 3044, '묻히다': 3045, '번뜩이다': 3046, '우아': 3047, '에로스': 3048, '겸비': 3049, '윤계상': 3050, '능청': 3051, '에린': 3052, '프레스토': 3053, '네요': 3054, '효과음': 3055, '막히다': 3056, '강혜정': 3057, '본가': 3058, '꾸준하다': 3059, '진짴': 3060, '타이틀': 3061, '달고나': 3062, '뷰욕': 3063, '중년': 3064, '수가': 3065, '퀵이유': 3066, '두번째': 3067, '삼십분': 3068, '명도': 3069, '왕조현': 3070, '왜색': 3071, '작고': 3072, '교활하다': 3073, '원숭이': 3074, '망상': 3075, '사무라이': 3076, '토나오다': 3077, '염치': 3078, '소비자': 3079, '입장': 3080, '상급': 3081, '품': 3082, '상호': 3083, '박신혜': 3084, '빠져나오다': 3085, '국민학교': 3086, '저렴하다': 3087, '마구잡이': 3088, '땀': 3089, '고본': 3090, '번째': 3091, '개도': 3092, '비행기': 3093, '후회되다': 3094, '헛웃음': 3095, '금단비': 3096, '에만': 3097, '열중': 3098, '기쁨': 3099, '거대하다': 3100, '섭리': 3101, '어머니': 3102, '성미': 3103, '자애': 3104, '낮추다': 3105, '고릴라': 3106, '거도': 3107, '섭렵': 3108, '샤워': 3109, '광해': 3110, '나약하다': 3111, '부각': 3112, '여러가지': 3113, '파렐': 3114, '라이': 3115, '사이코': 3116, '속출': 3117, '불교': 3118, '씨바': 3119, 'ㄹ': 3120, '어캐봐': 3121, '꼬옥': 3122, '저격': 3123, '비긴': 3124, '어게인': 3125, '대중': 3126, '허탈하다': 3127, '카이사르': 3128, '김민종': 3129, '공격': 3130, '유순하다': 3131, '여성성': 3132, '일기토': 3133, '지략': 3134, '삼국지': 3135, '맞짱': 3136, '비디오테잎': 3137, '좍좍': 3138, '제외': 3139, '따분': 3140, '헬기': 3141, '마구': 3142, '미군': 3143, '베트공': 3144, '스나이퍼': 3145, '등현': 3146, '극단': 3147, '업햄': 3148, '척': 3149, '주위': 3150, '자위대': 3151, '일편': 3152, '삽질': 3153, '브리': 3154, '쪼끔': 3155, '퍼스': 3156, '그랜트': 3157, '한자리': 3158, '아이리스': 3159, '자시': 3160, '접합': 3161, '정우성': 3162, '고소영': 3163, '그토록': 3164, '비트': 3165, '전라도': 3166, '노예': 3167, '업주': 3168, '처벌': 3169, '이슈': 3170, '자연': 3171, '노자': 3172, '끼리끼리': 3173, '유지': 3174, '이삼': 3175, '덴젤와싱턴': 3176, '모레쯔': 3177, '후덕': 3178, '배틀로얄': 3179, '상류층': 3180, '속물': 3181, '근성': 3182, '국회의원': 3183, '아부': 3184, '도덕': 3185, '가만히': 3186, '씨익': 3187, '정상인': 3188, '샬라샬': 3189, '즁': 3190, '쥬': 3191, '옹졸하다': 3192, '치졸하다': 3193, '빠다': 3194, '롭고': 3195, '이신': 3196, '직접': 3197, '어르신': 3198, '얘길': 3199, '대부분': 3200, '주민': 3201, '로간': 3202, '주로': 3203, '하층': 3204, '민': 3205, '복수심': 3206, '또는': 3207, '군경': 3208, '빨치산': 3209, '벌이다': 3210, '일리': 3211, '수역': 3212, '으이구': 3213, '티나': 3214, '신뢰': 3215, '요점': 3216, '헤어스타일': 3217, '저렇다': 3218, '노찌': 3219, '쯔': 3220, '크게': 3221, '김명민': 3222, '구해': 3223, '설마설마': 3224, '짝퉁': 3225, '고만': 3226, '설경구': 3227, '모욕감': 3228, '서점': 3229, '보심': 3230, '썰매': 3231, '타고': 3232, '목적지': 3233, '통제': 3234, '한다는': 3235, '데몰리션맨': 3236, '이퀄리브리엄': 3237, '원조': 3238, '격인': 3239, '해군': 3240, '출신': 3241, '파란색': 3242, '유오성': 3243, '챔프': 3244, '폭풍': 3245, '오열': 3246, 'ㅠㅜㅠㅍ': 3247, '퓨': 3248, '사소하다': 3249, '이모': 3250, '우': 3251, '베스트': 3252, '페이크': 3253, '시미즈': 3254, '영향': 3255, '업적': 3256, '대판': 3257, '쌈질': 3258, '낚시질': 3259, '폐지': 3260, '지미': 3261, '애린': 3262, '꼴통': 3263, '페미니즘': 3264, '페미나치': 3265, '마인드': 3266, '지향': 3267, '단것': 3268, '쿨하다': 3269, '이랬는데': 3270, '밤중': 3271, '에몽': 3272, '사과': 3273, '상권': 3274, '대형': 3275, '슈퍼마켓': 3276, '모해': 3277, '껀줄': 3278, '한송이': 3279, '하나라': 3280, '려': 3281, '설교': 3282, '거북하다': 3283, '결혼반지': 3284, '담하다': 3285, '개역': 3286, '문성우': 3287, '써주다': 3288, '미취': 3289, '학': 3290, '자랑스럽다': 3291, '존내': 3292, '재밋습': 3293, '어의': 3294, '로맨스영화': 3295, '잘알다': 3296, '허황': 3297, '윤아': 3298, '작자': 3299, '참여': 3300, '천녀유혼': 3301, '퀭': 3302, '훠': 3303, '얼씬': 3304, '내사': 3305, '나위': 3306, '진과': 3307, '산만': 3308, '무언가': 3309, '화학': 3310, '봣습니닼': 3311, '옆': 3312, '잼잇엇숩니': 3313, '준비': 3314, '젊다': 3315, '손대다': 3316, '마라천': 3317, '천하다': 3318, '두서': 3319, '오그리다': 3320, '파라': 3321, '노말': 3322, '엑': 3323, '부러': 3324, '문헌': 3325, '문란하다': 3326, '사도세자': 3327, '정조': 3328, '휴일': 3329, '낮': 3330, '침대': 3331, '눕다': 3332, '틀어주다': 3333, '벌떡': 3334, '해리슨': 3335, '포드': 3336, '영화광': 3337, '안타': 3338, '충분': 3339, '교육': 3340, '소유': 3341, '서인영': 3342, '흑백': 3343, '쇼핑몰': 3344, '와아': 3345, '두근두근': 3346, '익스트림': 3347, '저만': 3348, '수트': 3349, '미남': 3350, '으루': 3351, '권유': 3352, '창조': 3353, '중복': 3354, '보드': 3355, '파트': 3356, '개떡': 3357, '농촌': 3358, '리그': 3359, '피로': 3360, '얼음': 3361, '단독': 3362, '여호와': 3363, '증인': 3364, '탁재훈': 3365, '재밌': 3366, '라지': 3367, '무치다': 3368, '뒈지다': 3369, '정서': 3370, '섬머': 3371, '힘알': 3372, '맥': 3373, '엽기': 3374, '괴짜': 3375, '메다': 3376, '나루토': 3377, '보상': 3378, '일정': 3379, '성취': 3380, '결실': 3381, '거두다': 3382, '아씨': 3383, '전율': 3384, '여기저기': 3385, '지저분하다': 3386, '갈겨쓰다': 3387, '값지다': 3388, '린': 3389, '제이': 3390, '차안': 3391, '전화통화': 3392, '가까이': 3393, '폰부스': 3394, '현기증': 3395, '되돌아보다': 3396, '킬': 3397, '려면': 3398, '어정쩡하다': 3399, '흩어지다': 3400, '일방': 3401, '밀리': 3402, '식인종': 3403, '어쩌': 3404, '식인': 3405, '인성': 3406, '말살': 3407, '신도': 3408, '민권': 3409, '운동': 3410, '사르다': 3411, '요약': 3412, '뛰어내리다': 3413, 'ㅋㅋㅋㅋㅋㅋㅋㅋㅋ': 3414, '셈': 3415, '유투브': 3416, '지하철': 3417, '기관사': 3418, '스타워즈': 3419, '다스베이더': 3420, '탄생': 3421, '레이어': 3422, '운명': 3423, '소희': 3424, '졸귀': 3425, '소문나다': 3426, '잔치': 3427, '주성치': 3428, '웃': 3429, '교과서': 3430, '플레이': 3431, '귀찮다': 3432, '간직': 3433, '꺼내다': 3434, '화영': 3435, '나영': 3436, '머싯': 3437, '마리': 3438, '호들갑': 3439, '참으로': 3440, '밤새': 3441, '완주': 3442, '뮬란': 3443, '전쟁씬': 3444, '맑음': 3445, '파문': 3446, '김윤진': 3447, '무리수': 3448, '기획': 3449, '상품': 3450, '홀로': 3451, '아마겟돈': 3452, '악몽': 3453, '고결하다': 3454, '신사': 3455, '하셧을까': 3456, '캬': 3457, 'ㅎㅎㅎㅎ': 3458, '김소현': 3459, '삐': 3460, '아웃': 3461, '접영': 3462, '넘어서다': 3463, '왈가': 3464, '왈부': 3465, '또해': 3466, '미성년': 3467, '순결': 3468, '바치': 3469, '데인': 3470, '명문': 3471, '빈센트': 3472, '양반': 3473, '다세포': 3474, '잡': 3475, '흥': 3476, '새끼': 3477, '종인': 3478, '예원': 3479, '통틀어': 3480, '남아돌다': 3481, '보신': 3482, '전지현': 3483, '피디': 3484, '에여': 3485, '쨋': 3486, '달기지': 3487, '미니어쳐': 3488, '팍팍': 3489, '뢔매': 3490, '정여립': 3491, '정철': 3492, '기축옥사': 3493, '케미': 3494, '실험영화': 3495, '처먹어랔': 3496, '에일리언': 3497, '쇼핑': 3498, '어떡하다': 3499, '색채': 3500, '아프다': 3501, '대로': 3502, '화려': 3503, '리리': 3504, '심정': 3505, '옌': 3506, '도보': 3507, '사랑받다': 3508, '수이': 3509, '대학교': 3510, '졸업': 3511, '최강': 3512, '부대': 3513, '기세': 3514, '에이즈': 3515, '운동화': 3516, '프렌드': 3517, '년후': 3518, 'ㅅㅎㅎㅎ': 3519, '설리': 3520, '충돌': 3521, '만큼이나': 3522, '거룩하다': 3523, '구려': 3524, '오오': 3525, '여태': 3526, '맷': 3527, '데이먼': 3528, '얼티': 3529, '메이': 3530, '텀': 3531, '굿윌헌팅도쩐당': 3532, '로그인': 3533, '현정': 3534, '희한하다': 3535, '말아먹다': 3536, '케릭': 3537, '미장센': 3538, '불필요하다': 3539, '한나': 3540, '사로잡히다': 3541, '누나': 3542, '필수': 3543, '메간폭스': 3544, '미달': 3545, '태도': 3546, '파괴': 3547, '알콜중독자': 3548, '덕': 3549, '중견': 3550, '술사': 3551, '헛': 3552, '실물': 3553, '어유': 3554, '번역': 3555, '거여': 3556, '이집트': 3557, '스퀘어': 3558, '닉스': 3559, '합병': 3560, '소림사': 3561, '관문': 3562, '통과': 3563, 'ㅠㅠㅠㅠㅠㅠㅠㅠ': 3564, '뻥': 3565, '뚫리다': 3566, '펑점': 3567, '그라드': 3568, '글러': 3569, '죠스': 3570, '딥블루씨': 3571, '스캔들': 3572, '류덕환': 3573, '퀴즈': 3574, '에헤헹': 3575, '기만': 3576, '패턴턴너': 3577, '목격': 3578, '유턴': 3579, '에게로': 3580, '턴': 3581, '훌쩍': 3582, '착지': 3583, '다점': 3584, '창': 3585, '무릅쏴': 3586, '일제': 3587, '사격': 3588, '명복': 3589, '커트코베인': 3590, '전기': 3591, '고독': 3592, '팬픽': 3593, '배속': 3594, '알려지다': 3595, '재난영화': 3596, '그럴듯하다': 3597, '성과': 3598, '성유리': 3599, '사주다': 3600, '얼른': 3601, '것좀': 3602, '퀸틴': 3603, '포룸': 3604, '어줍다': 3605, '급식': 3606, '충': 3607, '최지우': 3608, '막강': 3609, '짜장면': 3610, '말르다': 3611, '황홀경': 3612, '미그기': 3613, '미사일': 3614, '발사': 3615, '전투기': 3616, '격추': 3617, '줄기': 3618, '이병헌': 3619, '돠': 3620, '다다다': 3621, 'ㅉㅉㅉ': 3622, '뭉클': 3623, '딘': 3624, '민감하다': 3625, '안성기': 3626, '육식': 3627, '빌딩': 3628, '딧노': 3629, '모퉁이': 3630, '더듬다': 3631, '쓸쓸하다': 3632, '욕좀': 3633, '상콤': 3634, '행여': 3635, '여름방학': 3636, '특선': 3637, '단편': 3638, '구조': 3639, '당태종': 3640, '최수종': 3641, '왕건': 3642, '대조영': 3643, '장보고': 3644, '박태준': 3645, '에다가': 3646, '짝': 3647, '빠져듬': 3648, '매주': 3649, '삼총사': 3650, '분장': 3651, '의외로': 3652, '고자': 3653, '김기덕': 3654, '올밴': 3655, '편성': 3656, '광희': 3657, '유세윤': 3658, '음주운전': 3659, '명필름': 3660, '부도': 3661, '심재명': 3662, '부부': 3663, '넉': 3664, '꾸밈': 3665, '꾸미다': 3666, '시내': 3667, '의리': 3668, '모라': 3669, '막장드라마': 3670, '질감': 3671, '양면': 3672, '기법': 3673, '떨어뜨리다': 3674, '어이': 3675, '일주일': 3676, '두부': 3677, '고어': 3678, '만남': 3679, '해짐': 3680, '요런': 3681, '끝내다': 3682, '시우민': 3683, '엑소': 3684, '교향곡': 3685, '미진하다': 3686, '호러물': 3687, '감격시대': 3688, '거듭': 3689, '반지의제왕': 3690, '날고기': 3691, '코스': 3692, '공존': 3693, '유작': 3694, '미키': 3695, '싱어': 3696, '셰릴': 3697, '린펜': 3698, '조안': 3699, '버런': 3700, '매혹': 3701, '맘껏': 3702, '부리다': 3703, '지명도': 3704, '주연': 3705, '몰락하다': 3706, '엄따': 3707, '서극': 3708, '공산당': 3709, '위화': 3710, '이도': 3711, '한채영': 3712, '장근석': 3713, '서민': 3714, '신동': 3715, '뿌듯하다': 3716, '중령': 3717, '증말': 3718, '록키': 3719, 'ㅆㄹㄱ': 3720, '선교': 3721, '축복': 3722, '언제나': 3723, '하여튼': 3724, '허구': 3725, '헌': 3726, '쓰기': 3727, '화의': 3728, '스타트랙': 3729, '배': 3730, '앨런': 3731, '그립다': 3732, '어째서': 3733, '틴토': 3734, '로드리게즈': 3735, '자세하다': 3736, '생략': 3737, '초보': 3738, '장비': 3739, '후진': 3740, '흔들리다': 3741, '안정': 3742, '졸리다': 3743, '찰흙': 3744, '크리': 3745, '짦': 3746, '그야말로': 3747, '송혜교': 3748, '차븟': 3749, 'ㅇㄱ': 3750, '디시': 3751, '의지': 3752, '야말로': 3753, '구제불': 3754, '능이': 3755, '출가': 3756, '김해': 3757, '은하사': 3758, '스티플러': 3759, '고통': 3760, '이며': 3761, '전무송': 3762, '괴': 3763, '짱구': 3764, '리즈': 3765, '건너': 3766, '띄다': 3767, '한참': 3768, '경우': 3769, '봣음': 3770, '그거': 3771, '말고는': 3772, '갖가지': 3773, '연관': 3774, '승전': 3775, '식임': 3776, '박대동': 3777, '홍도': 3778, '쾌': 3779, '니콜라스': 3780, '케이': 3781, '결승전': 3782, '공정하다': 3783, '라운드': 3784, '결과물': 3785, '과의': 3786, '관계도': 3787, '맺다': 3788, '오현민': 3789, '인간성': 3790, '팔다': 3791, '앱스토어': 3792, '애플': 3793, '안드로이드': 3794, '목포': 3795, '붹': 3796, '범죄자': 3797, '이물': 3798, '나인': 3799, '넘사벽': 3800, '맘속': 3801, '일요일': 3802, '동족': 3803, '도울': 3804, '장성택': 3805, '체제': 3806, '자멸': 3807, '호시탐탐': 3808, '노리': 3809, '빼앗기다': 3810, '갓': 3811, '동민': 3812, '다섯': 3813, '갈래': 3814, '야유': 3815, '별점': 3816, '이정우': 3817, '김푸른': 3818, '엄기준': 3819, '최': 3820, '근본': 3821, '절단': 3822, '닥치다': 3823, '무력하다': 3824, '나오미': 3825, '왓츠': 3826, '앨리': 3827, '파커': 3828, '정준호': 3829, '떄문': 3830, '쇼생크탈출': 3831, '오역': 3832, '클린트': 3833, '이스트': 3834, '우드': 3835, '절정': 3836, '북받치다': 3837, '이중성': 3838, '아이구': 3839, '똘볼수': 3840, '가르치다': 3841, '언론': 3842, '맹점': 3843, '군중심리': 3844, '파헤치다': 3845, '균형': 3846, '진영화': 3847, '캣우먼': 3848, '강우석': 3849, '에이브': 3850, '럼스': 3851, '미션임파서블': 3852, '오락': 3853, '심': 3854, '상치': 3855, '옥주현': 3856, '찌': 3857, '하윤': 3858, '은근': 3859, '적절하다': 3860, '토리': 3861, '찔끔': 3862, '몰랑몰랑': 3863, '비명': 3864, '포탈': 3865, '다이하드': 3866, '아이로봇': 3867, '기용': 3868, '황당': 3869, '용두사미': 3870, '패트레이버': 3871, '더하다': 3872, '점말': 3873, '패륜': 3874, '존쿠삭': 3875, '결혼': 3876, '메트로': 3877, '추리소설': 3878, '트릭': 3879, '행위': 3880, '정당성': 3881, '헌신': 3882, '용의자': 3883, '카톨릭': 3884, '개신교': 3885, '합치다': 3886, '그리스도교': 3887, '유일신': 3888, '하느님': 3889, '애국가': 3890, '리기': 3891, '점줌': 3892, '어케': 3893, '기다리다': 3894, '부탁': 3895, '캡틴': 3896, '데이빗': 3897, '린치': 3898, '필추': 3899, '년씨짘': 3900, '나올때마닼': 3901, '으헠': 3902, '악당': 3903, '부담': 3904, '스럽지': 3905, '스태프': 3906, '흔적': 3907, '부자연스럽다': 3908, '종': 3909, '웹툰': 3910, '돌': 3911, '묵고': 3912, '댕기': 3913, '셀': 3914, '리아나': 3915, '오만': 3916, '그레이': 3917, '토미': 3918, '본업': 3919, '똑바로': 3920, '게스트': 3921, '대지': 3922, '예능': 3923, '신비하다': 3924, '최하': 3925, '예감': 3926, '관람객': 3927, '평가절하': 3928, '단호': 3929, '왜르케': 3930, '포켓몬스터': 3931, '다해': 3932, '불쌍타': 3933, '종훈': 3934, '이형': 3935, '가오': 3936, '상하': 3937, '착오': 3938, '느': 3939, '어케되는': 3940, '시사': 3941, '전국': 3942, '내적': 3943, '외적인': 3944, '측면': 3945, '포인트': 3946, '물체': 3947, '빠르기': 3948, '풍부하다': 3949, '본적': 3950, '기분좋은날': 3951, '파킨슨병': 3952, '하염없이': 3953, 'ㅋㅋㅋㅋㅋㅋㅋㅋㅋㅋㅋ': 3954, '성욕': 3955, '합리화': 3956, '뭐함': 3957, '조니': 3958, '뎁': 3959, '출연료': 3960, '잭': 3961, '스패': 3962, '로우': 3963, '바둑': 3964, '급수': 3965, '리가': 3966, '향연': 3967, '바둑용어': 3968, '자처': 3969, '봣': 3970, '아트': 3971, '잭맨': 3972, '빨갛다': 3973, '풍선': 3974, '조엘': 3975, '슈마허': 3976, '배트맨': 3977, '로빈': 3978, '것일': 3979, '유일하다': 3980, '미덕': 3981, '조명': 3982, '바치다': 3983, '이니까': 3984, '중학교': 3985, '퍼펙트': 3986, '진하다': 3987, '애색긔들': 3988, '깜찍하다': 3989, '엄지': 3990, '사악하다': 3991, '마녀': 3992, '로부터': 3993, '매경': 3994, '갠차다': 3995, '섬': 3996, '타인': 3997, '까지의': 3998, '전이': 3999, '상반기': 4000, '악': 4001, '벌다': 4002, '쯧쯧': 4003, '저수지': 4004, '개폼': 4005, '버젼': 4006, '으로서의': 4007, '냄새': 4008, '뿜': 4009, '불가능': 4010, '조용하다': 4011, '관계씬': 4012, '수학': 4013, '알러뷰': 4014, '하이': 4015, '틴': 4016, '단점': 4017, '든지': 4018, '고맙다': 4019, '글쓰기': 4020, '기왕': 4021, '심왜': 4022, '습작': 4023, '지원': 4024, '나수윤': 4025, '배배꼬았다': 4026, '톰크루즈': 4027, '실질': 4028, '점준': 4029, '미술관': 4030, '관조': 4031, '검': 4032, '뷁': 4033, '읹': 4034, '씐': 4035, '제시카알바': 4036, '불러일으키다': 4037, '잡다하다': 4038, '샛길': 4039, '새다': 4040, '초점': 4041, '만족스럽다': 4042, '죽도': 4043, '성함': 4044, '저기': 4045, '그룹': 4046, '주진모': 4047, '송승헌': 4048, '더럽히다': 4049, '겉멋': 4050, '애국': 4051, '주의': 4052, '본질': 4053, '종잡': 4054, '델마와루이스': 4055, '케이스': 4056, '오디션': 4057, '나열하다': 4058, '정신없이': 4059, '지적': 4060, '곳도': 4061, '모음': 4062, '어째': 4063, '사용': 4064, '한수': 4065, '프로그램': 4066, '그러니까': 4067, '그다지': 4068, '스럽지도': 4069, '미이라': 4070, '뵈다': 4071, '꽝': 4072, 'ㅠㅜ': 4073, '단체': 4074, '점밑': 4075, '흘렷다': 4076, '억이': 4077, '외계': 4078, '과정': 4079, '길이': 4080, '최상급': 4081, '띠띠디띠': 4082, '숨': 4083, '품다': 4084, '아이폰': 4085, '하아': 4086, '복고': 4087, '컨셉': 4088, '종료': 4089, '년뒤': 4090, '편의': 4091, '수정과': 4092, '볼거리': 4093, '마마마': 4094, '우측': 4095, '강력하다': 4096, '주장': 4097, '오빠': 4098, '풋풋하다': 4099, '이연희': 4100, '하와': 4101, '고프다': 4102, '화일': 4103, '자질': 4104, '밖엔': 4105, '가보': 4106, '어처구니없다': 4107, '마지노선': 4108, '달마': 4109, '두사부일체': 4110, '주유소': 4111, '습격': 4112, '췌밌는데': 4113, '안문숙': 4114, '천하': 4115, '양녕대군': 4116, '으로서': 4117, '브랜드': 4118, '먹어주다': 4119, '삽': 4120, '파내다': 4121, '탐구': 4122, '조선시대': 4123, '신다': 4124, '대미': 4125, '문의': 4126, '이정재': 4127, '빛나다': 4128, '김옥빈': 4129, '데왜': 4130, '말이얌': 4131, '리턴': 4132, '코렌': 4133, '부의': 4134, '이군': 4135, '김태균': 4136, '재능': 4137, '의심': 4138, '환타지': 4139, '개척': 4140, '시나리오작가': 4141, '성동일': 4142, '시르다': 4143, '만화가': 4144, '최곤데': 4145, '열도': 4146, '대중화': 4147, '춘향전': 4148, '고발': 4149, '연예가중계': 4150, '정일': 4151, '촬영감독': 4152, '수치심': 4153, '소스': 4154, '치': 4155, '고개': 4156, '금정': 4157, '다운로드': 4158, '뉴완다': 4159, '깨다': 4160, '제니퍼': 4161, '로렌스': 4162, '가깝다': 4163, '억백만': 4164, '달러': 4165, '갑': 4166, '무지': 4167, '집다': 4168, '라고는': 4169, '농간': 4170, '휼륭하다': 4171, '널리': 4172, '퍼지다': 4173, '엄연하다': 4174, '재력': 4175, '오만해': 4176, '원스': 4177, '삼만리': 4178, '까지야': 4179, '전락': 4180, 'ㅜㅠ': 4181, '초등생': 4182, '소동': 4183, '유사하다': 4184, '택시': 4185, 'ㄷㄷㄷ': 4186, '줄리엣': 4187, '비노': 4188, '이뻣다': 4189, '고해': 4190, '감상문': 4191, '서류': 4192, '봉투': 4193, '도망가다': 4194, '남친': 4195, '짱짱하다': 4196, '진임': 4197, '모로': 4198, '도로': 4199, '데니스': 4200, '퀘': 4201, '이드': 4202, '명연기': 4203, '댄스': 4204, '어깨': 4205, '들썩들썩': 4206, '아젛': 4207, '겨울왕국': 4208, '왜캐': 4209, '넢어': 4210, '천사': 4211, '쿵푸허슬': 4212, '월트디즈니': 4213, '도리': 4214, '빡치다': 4215, '지식인': 4216, '물어보다': 4217, '프리즌브레이크': 4218, '미만': 4219, '콧구멍': 4220, '스캇': 4221, '국내': 4222, '쩌리': 4223, '샤론스톤': 4224, '파리': 4225, '톰': 4226, '크루즈': 4227, '간지': 4228, '향기': 4229, '만은': 4230, 'ㅎㄷㄷ': 4231, '창피하다': 4232, '인스피릿': 4233, '비스트': 4234, '궁금증': 4235, '균': 4236, '해병': 4237, '년놈': 4238, '불만': 4239, '해법': 4240, '동의': 4241, '사발': 4242, '젖': 4243, '저급하다': 4244, '것때메': 4245, '여자친구': 4246, '날카롭다': 4247, '형이상학적': 4248, '가시': 4249, '찔리다': 4250, '지각': 4251, '공기': 4252, '전해지다': 4253, '홍상수': 4254, 'ㅣ': 4255, 'ㅡㅡㅋ': 4256, '쟁장': 4257, '재밋게보고잇슴니': 4258, '와나': 4259, '넘버원': 4260, 'ㅉㅏ': 4261, '봣엇': 4262, '정선경': 4263, '푸다': 4264, '때우다': 4265, '용다': 4266, '고어영화': 4267, '완표': 4268, '재영': 4269, '어긋나다': 4270, '히치콕': 4271, '에드': 4272, '에든': 4273, '한가지': 4274, '겜블': 4275, '갱': 4276, '형사물': 4277, '배다': 4278, '에플렉': 4279, '펜': 4280, '김지수': 4281, '이하나': 4282, '한재석': 4283, '정겨운': 4284, '최정희': 4285, '교수': 4286, '태문': 4287, '회장': 4288, '뉴': 4289, '행': 4290, '층': 4291, '여동생': 4292, '에그': 4293, '분노': 4294, '찬': 4295, '리즈시절': 4296, '미쉘': 4297, '누님': 4298, '무뚝뚝하다': 4299, '별명': 4300, '마법': 4301, '동성애': 4302, '색': 4303, '예수님': 4304, '부릉부릉': 4305, '땅크': 4306, '맙': 4307, '다오': 4308, '렉': 4309, '준놈': 4310, '년작': 4311, '김재철': 4312, '전사': 4313, '장이': 4314, '발치': 4315, '누규': 4316, '케이트': 4317, '허드슨': 4318, '유키스': 4319, '유선': 4320, '나레이션': 4321, '아나운서': 4322, '라던가': 4323, '훌륭햇음': 4324, '웃대': 4325, '아이디': 4326, '애국자': 4327, '남선': 4328, '아이스크림': 4329, '제한': 4330, '미래': 4331, '설국열차': 4332, '가루지기': 4333, '약점': 4334, '스트라이커': 4335, '김준': 4336, '살육': 4337, '일어나서': 4338, '것임': 4339, '장진영': 4340, '흡연량': 4341, '고현정': 4342, '근육': 4343, '슈퍼스타': 4344, '참신': 4345, '열연': 4346, '템포': 4347, '드라들': 4348, '선동': 4349, '예상': 4350, '행진': 4351, '시범': 4352, '후딱': 4353, '하품': 4354, '단막극': 4355, '이용': 4356, '미시': 4357, '이연걸': 4358, '컬트': 4359, '감추다': 4360, '윤하': 4361, '관좀': 4362, '귀여니': 4363, '뚬': 4364, '알렉스': 4365, '오로린': 4366, '스탠': 4367, '심심': 4368, '미묘': 4369, '야마카시': 4370, '룸싸롱': 4371, '찌라시': 4372, '개편': 4373, '지상렬': 4374, '이유리': 4375, '신동엽': 4376, '까닭': 4377, '온라인': 4378, '서비스': 4379, '오픈': 4380, '만원': 4381, '오인혜': 4382, '마담': 4383, '세운': 4384, '낚시': 4385, '판단': 4386, '돌아서다': 4387, '돌다': 4388, '승려': 4389, '일대기': 4390, '둔기': 4391, '페드로': 4392, '전화기': 4393, '테레비': 4394, '삐뚤어지다': 4395, '빅뱅': 4396, '몇번': 4397, '풍자': 4398, '나누다': 4399, '베풀다': 4400, '발상': 4401, '뉘': 4402, '도저히': 4403, '쓸데없다': 4404, '총알': 4405, '무게': 4406, '분대': 4407, '런닝타임': 4408, '맥주': 4409, '마시다': 4410, '외치': 4411, '퍼뜩': 4412, 'ㅇㄴ': 4413, '추강': 4414, '추': 4415, '이솝우화': 4416, '승화': 4417, '반짝반짝': 4418, '종로': 4419, '백곰': 4420, '무장': 4421, '재시': 4422, '키다': 4423, '도데': 4424, '체': 4425, '와이프': 4426, '임신': 4427, '쩡': 4428, '함축': 4429, '재밋게봐': 4430, '밋엇움': 4431, '평땜': 4432, '환불': 4433, '자음': 4434, '입력': 4435, '식겁하다': 4436, '정형': 4437, '소신': 4438, '만도': 4439, '모양': 4440, '볼륨': 4441, '정신병': 4442, '한지민': 4443, '여신': 4444, '에바': 4445, '쓰레길': 4446, '다모': 4447, '혼합': 4448, '손가락': 4449, '진행중': 4450, '자만': 4451, '짜증스럽다': 4452, '관장': 4453, '맘대로': 4454, '해먹': 4455, '오버액션': 4456, '여전': 4457, '동창회': 4458, '에손': 4459, '얹다': 4460, '각각': 4461, 'ㅅㅂㅡㅡ': 4462, '불꽃': 4463, '날아가다': 4464, '아낌없다': 4465, '모름': 4466, '바랬어': 4467, '놓치다': 4468, '그리기': 4469, '대치': 4470, '웃스': 4471, '질주': 4472, '경악': 4473, '단조롭다': 4474, '힐링': 4475, '좀더': 4476, '유용하다': 4477, '썻었을거': 4478, '지정학적': 4479, '감우성': 4480, '최강희': 4481, '블랙리스트': 4482, '나살': 4483, '법후': 4484, '발판': 4485, '로세': 4486, '드류': 4487, '베리': 4488, '모어': 4489, '꼴사납다': 4490, '보건': 4491, '재회': 4492, '현저': 4493, '금발': 4494, '쌕시': 4495, '시종': 4496, '시샘': 4497, '구리': 4498, '질투': 4499, '아자': 4500, '금성': 4501, '샘플': 4502, '느슨하다': 4503, '볼일': 4504, '허비하다': 4505, '게다가': 4506, '노출하다': 4507, '아아': 4508, '장벽': 4509, '족족': 4510, '진수': 4511, '보때': 4512, '이암': 4513, '컬': 4514, '부전': 4515, '번개': 4516, '시퀀스': 4517, '조화': 4518, '이루다': 4519, '딴': 4520, '보삼': 4521, '사족': 4522, '드레곤': 4523, '기형': 4524, '덕질': 4525, '하고프다': 4526, '아나킨': 4527, '버러지': 4528, '화단': 4529, '웄던': 4530, '유아': 4531, '틱': 4532, '장난감': 4533, '호러영화': 4534, '계열': 4535, '에게만': 4536, '예찬': 4537, '오만상': 4538, '불현듯이': 4539, '이준기': 4540, '앞서': 4541, '프렌치': 4542, '캉캉': 4543, '럴슨': 4544, '제이슨': 4545, '전편': 4546, '이편': 4547, '주근': 4548, '게리': 4549, '논': 4550, '송어': 4551, '냉소': 4552, '박종원': 4553, '알콜': 4554, '의존': 4555, '팔리다': 4556, '토니': 4557, '서커스': 4558, '이해해': 4559, '머좀': 4560, '분량': 4561, '무착': 4562, '무뇌': 4563, '무식하다': 4564, '회사원': 4565, '반영': 4566, '부라': 4567, '님드': 4568, '보시': 4569, '보실': 4570, '선진국': 4571, '지드': 4572, '지내다': 4573, '로코': 4574, '무료': 4575, '온통': 4576, '폐허': 4577, '핵전쟁': 4578, '잘나다': 4579, '곰신': 4580, '하나같이': 4581, '스페인': 4582, '강간범': 4583, '조카': 4584, '쿵푸': 4585, '젠장': 4586, '탄탄': 4587, '기차': 4588, '서부': 4589, '가스펠': 4590, '편곡': 4591, '제프': 4592, '브리짓스': 4593, '가래': 4594, '헤일': 4595, '테': 4596, '벨트': 4597, '머리스타일': 4598, '이경실': 4599, '니나': 4600, '최소한': 4601, '본진': 4602, '헤드셋': 4603, '오줌': 4604, '찌릴뻔': 4605, '하얗다': 4606, '눈밭': 4607, '범벅': 4608, '압권': 4609, '몽롱': 4610, '슬로우': 4611, '모션': 4612, '넋': 4613, '유지태': 4614, '찜찜하다': 4615, '적나라하다': 4616, '뷰': 4617, '이이이이': 4618, '봣던': 4619, '라이오넬': 4620, '다우니': 4621, '주니어': 4622, '부탄가스': 4623, '터뜨리다': 4624, '어수선하다': 4625, '조만간': 4626, '엊그제': 4627, '작년': 4628, '가을': 4629, '겨울': 4630, '여름': 4631, '사계절': 4632, '부디': 4633, '해피엔딩': 4634, '에너미': 4635, '오브': 4636, '스테이': 4637, '울음': 4638, '묘': 4639, '팀': 4640, '로빈스': 4641, '너리': 4642, '리포트': 4643, '사만': 4644, '모튼': 4645, '임팩트': 4646, '똥망': 4647, '물소': 4648, '어딨다': 4649, '분투': 4650, '마음속': 4651, '간질': 4652, '긁다': 4653, '소장': 4654, '분신사바': 4655, '요새': 4656, '근처': 4657, '에라도': 4658, '조그만': 4659, '도시': 4660, '경쟁': 4661, '치열하다': 4662, '화구': 4663, '작위': 4664, '이정현': 4665, '엘리트': 4666, '비판': 4667, '서서히': 4668, '눈뜨다': 4669, '완점잼': 4670, 'ㅈㄴ': 4671, '캐': 4672, '임정은': 4673, '놀랍다': 4674, '천': 4675, '부적': 4676, '소질': 4677, '기자': 4678, '수면제': 4679, '잠자다': 4680, '도기': 4681, '스피드': 4682, '오그라들다': 4683, '용인': 4684, '이랑은': 4685, '파트너': 4686, '러시아어': 4687, '언급': 4688, '기부': 4689, '봉사활동': 4690, '상관없다': 4691, '만큼': 4692, '양조위': 4693, '장첸': 4694, '상관': 4695, '엘리자베스': 4696, '군상': 4697, '잠깐': 4698, '몇몇': 4699, '떙떙혹': 4700, '틴틴': 4701, '깨달음': 4702, '살때': 4703, '번인': 4704, '부모': 4705, '과거': 4706, '출생': 4707, '종결': 4708, '인지도': 4709, '안녕하다': 4710, '흡사하다': 4711, '배제': 4712, '무방': 4713, '조건': 4714, '편리하다': 4715, '따지다': 4716, '세대': 4717, '벅차다': 4718, '색감': 4719, '대장': 4720, '달리다': 4721, '패럴': 4722, '리': 4723, '댄서': 4724, '기득권': 4725, '취해': 4726, '지도': 4727, '민주당': 4728, '햇음': 4729, '어기다': 4730, '형무소': 4731, '유사': 4732, '당당하다': 4733, '오프라인': 4734, '선물': 4735, '이제야': 4736, '에반게리온': 4737, '김효진': 4738, '꼰다': 4739, '소통': 4740, '세번': 4741, '쓸모없다': 4742, '뻣뻣하다': 4743, '퇴보': 4744, '자리': 4745, '갈수': 4746, '자료': 4747, '코트': 4748, '헤': 4749, '반즈': 4750, '생생': 4751, '걸이': 4752, '컨저링': 4753, '스완': 4754, '명장': 4755, '이자': 4756, '뭍': 4757, '반쪽': 4758, '영화니': 4759, '활보': 4760, '결과': 4761, '팝콘': 4762, '찌질하다': 4763, '으로가': 4764, '리들리': 4765, '스콧': 4766, '감독판': 4767, '오리진': 4768, '마지막방송': 4769, '신성록': 4770, '이세영': 4771, '백인': 4772, '무한도전': 4773, '부작용': 4774, '권리': 4775, '뺒': 4776, '컴플렉스': 4777, '인들': 4778, '기발하다': 4779, '나본': 4780, '오래오래': 4781, '고이': 4782, '재수': 4783, '라우': 4784, '욧': 4785, '호기': 4786, '로운': 4787, '이끌다': 4788, '관계자': 4789, '예의': 4790, '갸웃': 4791, '편하다': 4792, '다수': 4793, '자위행위': 4794, '해달라다': 4795, '관용': 4796, '시간대': 4797, '일일': 4798, '물의': 4799, '처가': 4800, '나소': 4801, '다방면': 4802, '만족': 4803, '역쉬': 4804, '러브': 4805, '까먹다': 4806, '알리': 4807, '아릴': 4808, '한국어': 4809, '발음': 4810, '샬로': 4811, '맹목': 4812, '샬': 4813, '살길': 4814, '아리': 4815, '여가': 4816, '뒤뚱뒤뚱': 4817, '디스': 4818, '퓨티드': 4819, '이두용': 4820, '뽕': 4821, '망': 4822, '렸': 4823, '시시하다': 4824, '징': 4825, '리자': 4826, '옷': 4827, '헤어': 4828, '메이크업': 4829, '달아오르다': 4830, '뎈': 4831, '대길': 4832, '덕햇': 4833, '운남': 4834, '사이더': 4835, '하우스': 4836, '여행': 4837, '건조하다': 4838, '아하': 4839, '어우': 4840, '홀리랜드': 4841, '호야': 4842, '가하다': 4843, '떤다': 4844, '후끈': 4845, '후끈하다': 4846, '처절하다': 4847, '태우다': 4848, '가능': 4849, '쌩뚱맞다': 4850, '똥파리': 4851, '장승': 4852, '의사': 4853, '순진하다': 4854, '전투': 4855, '칼': 4856, '아베': 4857, '히로시': 4858, '타무라': 4859, '카': 4860, '키도': 4861, '온돌': 4862, '우기': 4863, '어쩌나': 4864, '단단하다': 4865, '감싸다': 4866, '익히다': 4867, '부드럽다': 4868, '물다': 4869, '훼': 4870, '장통': 4871, '가격': 4872, '흥정': 4873, '재미나': 4874, '연주': 4875, '빈번': 4876, '우리네': 4877, '직시': 4878, '다나': 4879, '어메이징': 4880, '가제': 4881, '감명': 4882, '리버': 4883, '피닉스': 4884, '화답': 4885, '폐해': 4886, '막연하다': 4887, '넘기다': 4888, '난무': 4889, '문단속': 4890, '중요성': 4891, '불사': 4892, '숨바꼭질': 4893, '문득': 4894, '야구': 4895, '어둠': 4896, '이상자': 4897, '정식': 4898, '진작': 4899, '쏘우': 4900, '당연하다': 4901, '옥': 4902, '쵝오네': 4903, '박영화': 4904, '한동안': 4905, '훔치다': 4906, '게살': 4907, '애둘맘': 4908, '애둘': 4909, '재우다': 4910, '낙': 4911, '낚으시네': 4912, '오늘밤': 4913, '악몸': 4914, '꾸다': 4915, '짱꼴라': 4916, '중화사상': 4917, '쏟아지다': 4918, '중국영화': 4919, '새삼': 4920, 'ㅏ': 4921, '시초': 4922, '고르다': 4923, '왕가위': 4924, '실소': 4925, '괜찬': 4926, '유니크': 4927, '요호': 4928, '보너스': 4929, '별개': 4930, '상투': 4931, '오도': 4932, '넬': 4933, '결혼식': 4934, '깽': 4935, '판도': 4936, '옥택연': 4937, '마동석': 4938, '마누라': 4939, '강제': 4940, '나누기': 4941, '상의': 4942, '뿌리다': 4943, '고참': 4944, '우발': 4945, '실수': 4946, '한반도': 4947, '편협': 4948, '까지와': 4949, '판치다': 4950, '엇네': 4951, '난뭐': 4952, '낚': 4953, '홥': 4954, '입': 4955, '프로젝트': 4956, '키리시': 4957, '뒤지다': 4958, '어보': 4959, '어지럽다': 4960, '출렁이다': 4961, '혼란': 4962, '어머님께': 4963, '외할아버지': 4964, '외할머니': 4965, '헐겁다': 4966, '정돈': 4967, '화나다': 4968, '그중': 4969, '이나영': 4970, '나머진': 4971, 'ㅠㅠㅠ': 4972, '바규': 4973, '갈리다': 4974, '직장': 4975, '동료': 4976, '선후배': 4977, '짜리몽땅': 4978, '파이팅': 4979, 'ㅁ': 4980, '구관': 4981, '명관': 4982, '천식': 4983, '오히려': 4984, '적요': 4985, '하루히': 4986, '확인': 4987, '클릭': 4988, '유전': 4989, '무죄': 4990, '무전': 4991, '유죄': 4992, '김준호': 4993, '이자나': 4994, '격투': 4995, '경전': 4996, '다예': 4997, '우선': 4998, '간략하다': 4999, '불편': 5000, '서울시장': 5001, '후보': 5002, '아내': 5003, '엄정화': 5004, '가수': 5005, '착': 5006, '달라붙다': 5007, '의상': 5008, '시방': 5009, '이브': 5010, '마디': 5011, '앙증맞다': 5012, '김선빈': 5013, '걸왜': 5014, '보물찾기': 5015, '미지': 5016, '모험': 5017, '열': 5018, '희극배우': 5019, '찰리채플린': 5020, '만세': 5021, '한정': 5022, '공간': 5023, '질리다': 5024, '어차피': 5025, '우승': 5026, '송민호': 5027, '뮤직': 5028, '비됴': 5029, '집기': 5030, '실습': 5031, '이보': 5032, '일수': 5033, '표': 5034, '대국민': 5035, '투표': 5036, '하숙집': 5037, '하숙': 5038, '사궈': 5039, '갖다': 5040}\n"
          ]
        }
      ]
    },
    {
      "cell_type": "code",
      "source": [
        "#빈도수가 낮은 단어 정리\n",
        "\n",
        "threshold = 3\n",
        "total_cnt = len(tokenizer.word_index) # 단어의 수\n",
        "rare_cnt = 0 # 등장 빈도수가 threshold보다 작은 단어의 개수를 카운트\n",
        "total_freq = 0 # 훈련 데이터의 전체 단어 빈도수 총 합\n",
        "rare_freq = 0 # 등장 빈도수가 threshold보다 작은 단어의 등장 빈도수의 총 합\n",
        "\n",
        "# 단어와 빈도수의 쌍(pair)을 key와 value로 받는다.\n",
        "for key, value in tokenizer.word_counts.items():\n",
        "    total_freq = total_freq + value\n",
        "\n",
        "    # 단어의 등장 빈도수가 threshold보다 작으면\n",
        "    if(value < threshold):\n",
        "        rare_cnt = rare_cnt + 1\n",
        "        rare_freq = rare_freq + value\n",
        "\n",
        "# 전체 단어 개수 중 빈도수 2이하인 단어는 제거.\n",
        "# 0번 패딩 토큰을 고려하여 + 1\n",
        "vocab_size = total_cnt - rare_cnt + 1\n",
        "print('단어 집합의 크기 :',vocab_size)"
      ],
      "metadata": {
        "colab": {
          "base_uri": "https://localhost:8080/"
        },
        "id": "l1ortp3DFuK8",
        "outputId": "8bff8354-d1e6-44df-f0f0-2be1e1711c82"
      },
      "execution_count": 24,
      "outputs": [
        {
          "output_type": "stream",
          "name": "stdout",
          "text": [
            "단어 집합의 크기 : 1336\n"
          ]
        }
      ]
    },
    {
      "cell_type": "code",
      "source": [
        "tokenizer = Tokenizer(vocab_size) \n",
        "# 케라스 토크나이저는 텍스트 시퀀스를 숫자 시퀀스로 변환한다.\n",
        "tokenizer.fit_on_texts(X_train)\n",
        "X_train = tokenizer.texts_to_sequences(X_train)\n",
        "X_test = tokenizer.texts_to_sequences(X_test)"
      ],
      "metadata": {
        "id": "0_7ylJ1IGDLo"
      },
      "execution_count": 25,
      "outputs": []
    },
    {
      "cell_type": "code",
      "source": [
        "print(X_train[:3])"
      ],
      "metadata": {
        "colab": {
          "base_uri": "https://localhost:8080/"
        },
        "id": "Xbg3vy8jGOth",
        "outputId": "50b61b43-abda-47ad-a8c9-d1d0f68fdcdc"
      },
      "execution_count": 26,
      "outputs": [
        {
          "output_type": "stream",
          "name": "stdout",
          "text": [
            "[[53, 433, 16, 186, 651], [652, 270, 35, 988, 1, 136, 789, 20, 989, 555, 24], [292, 990, 2, 350, 9]]\n"
          ]
        }
      ]
    },
    {
      "cell_type": "code",
      "source": [
        "# data에서 y_train과 y_test를 별도로 저장\n",
        "y_train = np.array(train_data['label'])\n",
        "y_test = np.array(test_data['label'])\n",
        "     \n",
        "     "
      ],
      "metadata": {
        "id": "I14rYNNgGSrj"
      },
      "execution_count": 27,
      "outputs": []
    },
    {
      "cell_type": "code",
      "source": [
        "# 패딩\n",
        "# 패딩을 위해 전체 데이터에서 가장 길이가 긴 리뷰와 전체 데이터의 길이 분포를 알아본다.\n",
        "\n",
        "print('리뷰의 최대 길이 :',max(len(l) for l in X_train))\n",
        "print('리뷰의 평균 길이 :',sum(map(len, X_train))/len(X_train))\n",
        "plt.hist([len(s) for s in X_train], bins=50)\n",
        "plt.xlabel('length of samples')\n",
        "plt.ylabel('number of samples')\n",
        "plt.show()\n",
        "     "
      ],
      "metadata": {
        "colab": {
          "base_uri": "https://localhost:8080/",
          "height": 486
        },
        "id": "XXetjZFyIYQ5",
        "outputId": "726707e0-29ad-4370-b744-ac01414cc1ee"
      },
      "execution_count": 28,
      "outputs": [
        {
          "output_type": "stream",
          "name": "stdout",
          "text": [
            "리뷰의 최대 길이 : 42\n",
            "리뷰의 평균 길이 : 8.646821392532795\n"
          ]
        },
        {
          "output_type": "display_data",
          "data": {
            "text/plain": [
              "<Figure size 640x480 with 1 Axes>"
            ],
            "image/png": "[encoded data removed]"
          },
          "metadata": {}
        }
      ]
    },
    {
      "cell_type": "code",
      "source": [
        "# 대부분의 리뷰가 내용이 잘리지 않도록 전체 샘플 중 길이가 max_len 이하인 샘플의 비율이 몇 %인지 확인하는 함수를 만들어 사용한다.\n",
        "\n",
        "def below_threshold_len(max_len, nested_list):\n",
        "  cnt = 0\n",
        "  for s in nested_list:\n",
        "    if(len(s) <= max_len):\n",
        "        cnt = cnt + 1\n",
        "  print('전체 샘플 중 길이가 %s 이하인 샘플의 비율: %s'%(max_len, (cnt / len(nested_list))*100))\n",
        "\n",
        "# max_len을 30으로 지정하고 그 분포를 확인해보자.\n",
        "max_len = 30\n",
        "below_threshold_len(max_len, X_train)\n",
        "# 전체 훈련 데이터 중 약 97%의 리뷰가 30이하의 길이를 가지는 것을 확인했다. "
      ],
      "metadata": {
        "colab": {
          "base_uri": "https://localhost:8080/"
        },
        "id": "Ps6Wk6yQIhD-",
        "outputId": "85fdc85c-ea98-4aa0-a4a1-8ce1e0c0e1e7"
      },
      "execution_count": 29,
      "outputs": [
        {
          "output_type": "stream",
          "name": "stdout",
          "text": [
            "전체 샘플 중 길이가 30 이하인 샘플의 비율: 97.67911200807265\n"
          ]
        }
      ]
    },
    {
      "cell_type": "code",
      "source": [
        "X_train = pad_sequences(X_train, maxlen = max_len)\n",
        "X_test = pad_sequences(X_test, maxlen = max_len)"
      ],
      "metadata": {
        "id": "7kcp-UDTIq3l"
      },
      "execution_count": 30,
      "outputs": []
    },
    {
      "cell_type": "markdown",
      "source": [
        "### LSTM으로 네이버 영화리뷰 감성 분류"
      ],
      "metadata": {
        "id": "gx-EyThkIv5U"
      }
    },
    {
      "cell_type": "code",
      "source": [
        "from tensorflow.keras.layers import Embedding, Dense, LSTM\n",
        "from tensorflow.keras.models import Sequential\n",
        "from tensorflow.keras.models import load_model\n",
        "from tensorflow.keras.callbacks import EarlyStopping, ModelCheckpoint"
      ],
      "metadata": {
        "id": "_fBw5Tj-IyQ0"
      },
      "execution_count": 31,
      "outputs": []
    },
    {
      "cell_type": "code",
      "source": [
        "model = Sequential() #케라스의 Sequential모델 : 레이어를 선형으로 연결\n",
        "model.add(Embedding(vocab_size, 100)) #첫번째 인자 : 단어 사전의 크기, 임베딩의 차원\n",
        "model.add(LSTM(128)) #batch_size, input_length, input_dim) 여기서는 batch_size가 128\n",
        "model.add(Dense(1, activation='sigmoid'))\n",
        "\n",
        "# model = Sequential([\n",
        "#     Embedding(vocab_size, 100),\n",
        "#     LSTM(128),\n",
        "#     Dense(1. activation='sigmoid')\n",
        "# ])"
      ],
      "metadata": {
        "id": "r8MphOppI3b6"
      },
      "execution_count": 32,
      "outputs": []
    },
    {
      "cell_type": "code",
      "source": [
        "es = EarlyStopping(monitor='val_loss', mode='min', verbose=1, patience=4) #4 에포크는 기다리고 종료\n",
        "# 검증 데이터 손실(val_loss)이 증가하면 조기 종료\n",
        "mc = ModelCheckpoint('best_model.h5', monitor='val_acc', mode='max', verbose=1, save_best_only=True)\n",
        "# 훈련 과정에서 검증 데이터의 정확도가 가장 높은 모델 저장"
      ],
      "metadata": {
        "id": "BZR2E3LFI5qs"
      },
      "execution_count": 33,
      "outputs": []
    },
    {
      "cell_type": "code",
      "source": [
        "model.compile(optimizer='rmsprop', loss='binary_crossentropy', metrics=['acc']) #학습방식에 대한 환경설정\n",
        "history = model.fit(X_train, y_train, epochs=15, callbacks=[es, mc], batch_size=100, validation_split=0.2)\n",
        "# 훈련 데이터 중 20%를 검증 데이터로 사용하면서 정확도 확인\n",
        "\n",
        "#0.5290 부터 4번은 loss가 상승했음 그래서 멈춤\n"
      ],
      "metadata": {
        "colab": {
          "base_uri": "https://localhost:8080/"
        },
        "id": "R6l5ChKpuGRw",
        "outputId": "f1f5ece9-835f-4dad-e668-df1719aa66d8"
      },
      "execution_count": 34,
      "outputs": [
        {
          "output_type": "stream",
          "name": "stdout",
          "text": [
            "Epoch 1/15\n",
            "16/16 [==============================] - ETA: 0s - loss: 0.6924 - acc: 0.5199\n",
            "Epoch 1: val_acc improved from -inf to 0.58690, saving model to best_model.h5\n",
            "16/16 [==============================] - 12s 201ms/step - loss: 0.6924 - acc: 0.5199 - val_loss: 0.6908 - val_acc: 0.5869\n",
            "Epoch 2/15\n",
            "16/16 [==============================] - ETA: 0s - loss: 0.6877 - acc: 0.6202\n",
            "Epoch 2: val_acc improved from 0.58690 to 0.68010, saving model to best_model.h5\n",
            "16/16 [==============================] - 2s 141ms/step - loss: 0.6877 - acc: 0.6202 - val_loss: 0.6843 - val_acc: 0.6801\n",
            "Epoch 3/15\n",
            "16/16 [==============================] - ETA: 0s - loss: 0.6696 - acc: 0.6953\n",
            "Epoch 3: val_acc did not improve from 0.68010\n",
            "16/16 [==============================] - 2s 115ms/step - loss: 0.6696 - acc: 0.6953 - val_loss: 0.6626 - val_acc: 0.5718\n",
            "Epoch 4/15\n",
            "16/16 [==============================] - ETA: 0s - loss: 0.6220 - acc: 0.6997\n",
            "Epoch 4: val_acc improved from 0.68010 to 0.69521, saving model to best_model.h5\n",
            "16/16 [==============================] - 2s 103ms/step - loss: 0.6220 - acc: 0.6997 - val_loss: 0.6045 - val_acc: 0.6952\n",
            "Epoch 5/15\n",
            "16/16 [==============================] - ETA: 0s - loss: 0.5317 - acc: 0.7659\n",
            "Epoch 5: val_acc improved from 0.69521 to 0.72544, saving model to best_model.h5\n",
            "16/16 [==============================] - 2s 92ms/step - loss: 0.5317 - acc: 0.7659 - val_loss: 0.5578 - val_acc: 0.7254\n",
            "Epoch 6/15\n",
            "16/16 [==============================] - ETA: 0s - loss: 0.4540 - acc: 0.8170\n",
            "Epoch 6: val_acc did not improve from 0.72544\n",
            "16/16 [==============================] - 2s 122ms/step - loss: 0.4540 - acc: 0.8170 - val_loss: 0.5290 - val_acc: 0.7154\n",
            "Epoch 7/15\n",
            "12/16 [=====================>........] - ETA: 0s - loss: 0.3823 - acc: 0.8517\n",
            "Epoch 7: val_acc did not improve from 0.72544\n",
            "16/16 [==============================] - 0s 28ms/step - loss: 0.3887 - acc: 0.8404 - val_loss: 0.5393 - val_acc: 0.7229\n",
            "Epoch 8/15\n",
            "12/16 [=====================>........] - ETA: 0s - loss: 0.3298 - acc: 0.8783\n",
            "Epoch 8: val_acc improved from 0.72544 to 0.76322, saving model to best_model.h5\n",
            "16/16 [==============================] - 1s 57ms/step - loss: 0.3227 - acc: 0.8826 - val_loss: 0.5360 - val_acc: 0.7632\n",
            "Epoch 9/15\n",
            "16/16 [==============================] - ETA: 0s - loss: 0.2922 - acc: 0.8826\n",
            "Epoch 9: val_acc did not improve from 0.76322\n",
            "16/16 [==============================] - 1s 75ms/step - loss: 0.2922 - acc: 0.8826 - val_loss: 0.5807 - val_acc: 0.7280\n",
            "Epoch 10/15\n",
            "15/16 [===========================>..] - ETA: 0s - loss: 0.2451 - acc: 0.9093\n",
            "Epoch 10: val_acc did not improve from 0.76322\n",
            "16/16 [==============================] - 1s 84ms/step - loss: 0.2413 - acc: 0.9110 - val_loss: 0.5761 - val_acc: 0.7456\n",
            "Epoch 10: early stopping\n"
          ]
        }
      ]
    },
    {
      "cell_type": "markdown",
      "source": [
        "### 리뷰 예측하기"
      ],
      "metadata": {
        "id": "7xK5aZ2rvrei"
      }
    },
    {
      "cell_type": "code",
      "source": [
        "def sentiment_predict(new_sentence):\n",
        "  new_sentence = okt.morphs(new_sentence, stem=True) # 토큰화\n",
        "  new_sentence = [word for word in new_sentence if not word in stopwords] # 불용어 제거\n",
        "  encoded = tokenizer.texts_to_sequences([new_sentence]) # 정수 인코딩\n",
        "  pad_new = pad_sequences(encoded, maxlen = max_len) # 패딩\n",
        "  score = float(model.predict(pad_new)) # 예측\n",
        "  if(score > 0.5):\n",
        "    print(\"{:.2f}% 확률로 긍정 리뷰입니다.\\n\".format(score * 100))\n",
        "  else:\n",
        "    print(\"{:.2f}% 확률로 부정 리뷰입니다.\\n\".format((1 - score) * 100))"
      ],
      "metadata": {
        "id": "DmrCCVaNuKQx"
      },
      "execution_count": 35,
      "outputs": []
    },
    {
      "cell_type": "code",
      "source": [
        "sentiment_predict('영화의 주제가 뭔지 모르겠음')"
      ],
      "metadata": {
        "colab": {
          "base_uri": "https://localhost:8080/"
        },
        "id": "whkDBCUbwu4-",
        "outputId": "c7d69a54-bf9c-42cc-c940-3d461012cd83"
      },
      "execution_count": 36,
      "outputs": [
        {
          "output_type": "stream",
          "name": "stdout",
          "text": [
            "1/1 [==============================] - 0s 368ms/step\n",
            "93.02% 확률로 부정 리뷰입니다.\n",
            "\n"
          ]
        }
      ]
    },
    {
      "cell_type": "code",
      "source": [
        "sentiment_predict('기대보다는 스토리가 큰 감흥은 없습니다 연기는 잔잔하게 볼 만 합니다')"
      ],
      "metadata": {
        "colab": {
          "base_uri": "https://localhost:8080/"
        },
        "id": "KY9Hs8hDwxhg",
        "outputId": "98ebd14f-4777-4853-9882-fb82e9fc738f"
      },
      "execution_count": 37,
      "outputs": [
        {
          "output_type": "stream",
          "name": "stdout",
          "text": [
            "1/1 [==============================] - 0s 19ms/step\n",
            "81.59% 확률로 긍정 리뷰입니다.\n",
            "\n"
          ]
        }
      ]
    },
    {
      "cell_type": "code",
      "source": [
        "sentiment_predict('혼자 보기 싫은 영화입니다')"
      ],
      "metadata": {
        "id": "mPX1Swbfsw6E",
        "outputId": "6d017600-e70b-42ab-9145-e063e551d296",
        "colab": {
          "base_uri": "https://localhost:8080/"
        }
      },
      "execution_count": 38,
      "outputs": [
        {
          "output_type": "stream",
          "name": "stdout",
          "text": [
            "1/1 [==============================] - 0s 29ms/step\n",
            "54.50% 확률로 긍정 리뷰입니다.\n",
            "\n"
          ]
        }
      ]
    },
    {
      "cell_type": "code",
      "source": [
        "sentiment_predict('재밌는 영화입니다')"
      ],
      "metadata": {
        "id": "fy-esN-Rs1Jp",
        "outputId": "b3527e2e-19a9-4d10-c93f-264e0150feca",
        "colab": {
          "base_uri": "https://localhost:8080/"
        }
      },
      "execution_count": 39,
      "outputs": [
        {
          "output_type": "stream",
          "name": "stdout",
          "text": [
            "1/1 [==============================] - 0s 22ms/step\n",
            "98.80% 확률로 긍정 리뷰입니다.\n",
            "\n"
          ]
        }
      ]
    }
  ]
}